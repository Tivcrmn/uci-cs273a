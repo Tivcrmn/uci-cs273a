{
 "cells": [
  {
   "cell_type": "code",
   "execution_count": 2,
   "metadata": {
    "collapsed": true
   },
   "outputs": [],
   "source": [
    "%load_ext autoreload\n",
    "%autoreload 2\n",
    "import numpy as np\n",
    "\n",
    "import matplotlib.pyplot as plt   # use matplotlib for plotting with inline plots\n",
    "%matplotlib inline\n",
    "np.random.seed(0)"
   ]
  },
  {
   "cell_type": "code",
   "execution_count": 3,
   "metadata": {},
   "outputs": [
    {
     "data": {
      "text/plain": [
       "((200000, 15), (200000, 15))"
      ]
     },
     "execution_count": 3,
     "metadata": {},
     "output_type": "execute_result"
    }
   ],
   "source": [
    "xy_tr = np.loadtxt('train.txt');\n",
    "xy_te = np.loadtxt('test.txt');\n",
    "xy_tr.shape, xy_te.shape"
   ]
  },
  {
   "cell_type": "code",
   "execution_count": 4,
   "metadata": {},
   "outputs": [
    {
     "name": "stdout",
     "output_type": "stream",
     "text": [
      "Training:  (200000, 14) (200000,)\n",
      "Test:  (200000, 14) (200000,)\n"
     ]
    },
    {
     "data": {
      "image/png": "[encoded data removed]",
      "text/plain": [
       "<matplotlib.figure.Figure at 0x7fa1deba1f98>"
      ]
     },
     "metadata": {},
     "output_type": "display_data"
    }
   ],
   "source": [
    "Xtr,Ytr = xy_tr[:,:-1],xy_tr[:,-1];\n",
    "Xte,Yte = xy_te[:,:-1],xy_te[:,-1];\n",
    "print(\"Training: \", Xtr.shape, Ytr.shape)\n",
    "print(\"Test: \", Xtr.shape, Ytr.shape)\n",
    "plt.hist(Ytr, bins='auto', log=True)\n",
    "plt.hist(Yte, bins='auto', log=True)\n",
    "plt.show()"
   ]
  },
  {
   "cell_type": "code",
   "execution_count": 5,
   "metadata": {},
   "outputs": [
    {
     "name": "stdout",
     "output_type": "stream",
     "text": [
      "0.367245 0.316975\n",
      "0.293915 0.25502\n",
      "0.367245 0.316975\n",
      "0.632755 0.683025\n"
     ]
    }
   ],
   "source": [
    "print(np.mean(Ytr > .0), np.mean(Yte > .0))\n",
    "print(np.mean(Ytr > .1), np.mean(Yte > .1))\n",
    "print(np.mean(Ytr > .05), np.mean(Yte > .05))\n",
    "print(np.mean(Ytr == 0.0), np.mean(Yte == 0.0))"
   ]
  },
  {
   "cell_type": "code",
   "execution_count": 6,
   "metadata": {},
   "outputs": [
    {
     "name": "stdout",
     "output_type": "stream",
     "text": [
      "(400000, 14) (400000,)\n",
      "Training:  (200000, 14) (200000,)\n",
      "Test:  (200000, 14) (200000,)\n"
     ]
    }
   ],
   "source": [
    "X=np.vstack( (Xtr,Xte) )\n",
    "Y=np.hstack( (Ytr,Yte) )\n",
    "print(X.shape, Y.shape)\n",
    "order = np.random.permutation( X.shape[0] )\n",
    "nTrain = 200000\n",
    "nTest  = 200000\n",
    "Xtr,Ytr = X[order[:nTrain],:], Y[order[:nTrain]]\n",
    "Xte,Yte = X[order[nTrain:nTrain+nTest],:], Y[order[nTrain:nTrain+nTest]]\n",
    "print(\"Training: \", Xtr.shape, Ytr.shape)\n",
    "print(\"Test: \", Xtr.shape, Ytr.shape)"
   ]
  },
  {
   "cell_type": "code",
   "execution_count": 7,
   "metadata": {},
   "outputs": [
    {
     "data": {
      "text/plain": [
       "(0.34289500000000001, 0.34132499999999999)"
      ]
     },
     "execution_count": 7,
     "metadata": {},
     "output_type": "execute_result"
    }
   ],
   "source": [
    "# binarize the labels\n",
    "Ytr01 = (Ytr>0.0).astype('int');\n",
    "Yte01 = (Yte>0.0).astype('int');\n",
    "np.mean(Ytr01), np.mean(Yte01)"
   ]
  },
  {
   "cell_type": "code",
   "execution_count": 8,
   "metadata": {
    "collapsed": true
   },
   "outputs": [],
   "source": [
    "# Now save to files\n",
    "np.savetxt('X_train.txt',Xtr);\n",
    "np.savetxt('X_test.txt',Xte);\n",
    "\n",
    "np.savetxt('Y_train.txt',Ytr01,'%d')\n",
    "np.savetxt('Y_test.txt',Yte01,'%d')\n",
    "\n",
    "# Upload to Kaggle\n",
    "np.savetxt('Y_test_kaggle.txt',np.vstack((np.arange(len(Yte01)),Yte01)).T,'%d',header='ID,Target',comments='',delimiter=',')"
   ]
  },
  {
   "cell_type": "code",
   "execution_count": null,
   "metadata": {
    "collapsed": true
   },
   "outputs": [],
   "source": [
    "# we are done!"
   ]
  }
 ],
 "metadata": {
  "kernelspec": {
   "display_name": "Python 3",
   "language": "python",
   "name": "python3"
  }
 },
 "nbformat": 4,
 "nbformat_minor": 2
}
