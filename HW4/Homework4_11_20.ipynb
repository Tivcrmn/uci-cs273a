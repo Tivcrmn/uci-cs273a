{
 "cells": [
  {
   "cell_type": "markdown",
   "metadata": {},
   "source": [
    "### Setting up the data (10 points)\n",
    "\n",
    "The following is the snippet of code to load the datasets, and split it into train and validation data:"
   ]
  },
  {
   "cell_type": "code",
   "execution_count": 1,
   "metadata": {},
   "outputs": [],
   "source": [
    "import numpy as np\n",
    "import matplotlib.pyplot as plt\n",
    "import mltools as ml\n",
    "\n",
    "# Data Loading\n",
    "X = np.genfromtxt('data/X_train.txt', delimiter=None)\n",
    "Y = np.genfromtxt('data/Y_train.txt', delimiter=None)\n",
    "X,Y = ml.shuffleData(X,Y)\n",
    "\n",
    "def print_info(X, name):\n",
    "    for i in range(X.shape[1]):\n",
    "        print(i + 1)\n",
    "        print(name + \" min is:\", np.min(X[:, i]), name + \" max is:\", np.max(X[:, i]))\n",
    "        print(name + \" mean is:\",np.mean(X[:,i]), name + \" variance is:\",np.var(X[:,i]))\n"
   ]
  },
  {
   "cell_type": "code",
   "execution_count": 2,
   "metadata": {},
   "outputs": [
    {
     "name": "stdout",
     "output_type": "stream",
     "text": [
      "1\n",
      " min is: 193.5  max is: 253.0\n",
      " mean is: 241.60110369999998  variance is: 83.49917114984629\n",
      "2\n",
      " min is: 152.5  max is: 249.0\n",
      " mean is: 227.37657130000002  variance is: 92.6255931250163\n",
      "3\n",
      " min is: 214.25  max is: 252.5\n",
      " mean is: 241.55415050000002  variance is: 35.28633980334975\n",
      "4\n",
      " min is: 152.5  max is: 252.5\n",
      " mean is: 232.82676815000008  variance is: 97.62573174864559\n",
      "5\n",
      " min is: 10.0  max is: 31048.0\n",
      " mean is: 3089.923365  variance is: 15651513.75643208\n",
      "6\n",
      " min is: 0.0  max is: 13630.0\n",
      " mean is: 928.25902  variance is: 3081761.8169486397\n",
      "7\n",
      " min is: 0.0  max is: 9238.0\n",
      " mean is: 138.09383  variance is: 443951.74644593114\n",
      "8\n",
      " min is: 0.0  max is: 125.17\n",
      " mean is: 3.2485793303  variance is: 8.219485024912496\n",
      "9\n",
      " min is: 0.87589  max is: 19.167\n",
      " mean is: 6.49865290275  variance is: 6.405048191357353\n",
      "10\n",
      " min is: 0.0  max is: 13.23\n",
      " mean is: 2.09713912048  variance is: 4.36344047061341\n",
      "11\n",
      " min is: 0.0  max is: 66.761\n",
      " mean is: 4.2176604093500005  variance is: 4.086371884226908\n",
      "12\n",
      " min is: 0.0  max is: 73.902\n",
      " mean is: 2.69171845215  variance is: 2.198778474358265\n",
      "13\n",
      " min is: 0.99049  max is: 975.04\n",
      " mean is: 10.271590475899998  variance is: 404.6462450411813\n",
      "14\n",
      " min is: -999.9  max is: 797.2\n",
      " mean is: 5.781480500000001  variance is: 3406.520550978119\n"
     ]
    }
   ],
   "source": [
    "# 1.1 Print the minimum, maximum, mean, and the variance of all of the features.\n",
    "print_info(X, '')"
   ]
  },
  {
   "cell_type": "code",
   "execution_count": 3,
   "metadata": {},
   "outputs": [
    {
     "name": "stdout",
     "output_type": "stream",
     "text": [
      "---XtS-----\n",
      "1\n",
      "XtS min is: -4.742658578656772 XtS max is: 1.2324067660744005\n",
      "XtS mean is: 1.0791723070724401e-14 XtS variance is: 0.9999999999999997\n",
      "2\n",
      "XtS min is: -3.86922276870052 XtS max is: 1.707630661321648\n",
      "XtS mean is: 3.646505319920834e-15 XtS variance is: 1.0000000000000007\n",
      "3\n",
      "XtS min is: -4.368657236181754 XtS max is: 1.6541320046460741\n",
      "XtS mean is: 8.38568325889355e-14 XtS variance is: 1.000000000000001\n",
      "4\n",
      "XtS min is: -2.7653221637074936 XtS max is: 1.878974882161208\n",
      "XtS mean is: 2.4380142349400558e-14 XtS variance is: 0.9999999999999968\n",
      "5\n",
      "XtS min is: -0.7910990061209495 XtS max is: 7.263818629024941\n",
      "XtS mean is: -4.689582056016661e-17 XtS variance is: 0.9999999999999963\n",
      "6\n",
      "XtS min is: -0.5310673584378655 XtS max is: 7.571431181353602\n",
      "XtS mean is: -1.4210854715202004e-17 XtS variance is: 1.0000000000000195\n",
      "7\n",
      "XtS min is: -0.2086171946404002 XtS max is: 14.164847492980924\n",
      "XtS mean is: -1.1368683772161604e-17 XtS variance is: 0.9999999999999291\n",
      "8\n",
      "XtS min is: -1.162543934179288 XtS max is: 7.037934658025881\n",
      "XtS mean is: -2.502176243979193e-15 XtS variance is: 0.9999999999999963\n",
      "9\n",
      "XtS min is: -1.9633025161147282 XtS max is: 3.952500949237174\n",
      "XtS mean is: -2.901856532844249e-15 XtS variance is: 1.0000000000000018\n",
      "10\n",
      "XtS min is: -0.9956157387103575 XtS max is: 4.380301195068526\n",
      "XtS mean is: -1.6058265828178265e-15 XtS variance is: 1.0000000000000058\n",
      "11\n",
      "XtS min is: -2.101615032411557 XtS max is: 6.671291981838426\n",
      "XtS mean is: 6.548361852765083e-15 XtS variance is: 1.0000000000000007\n",
      "12\n",
      "XtS min is: -1.7900810698195129 XtS max is: 27.332987062185303\n",
      "XtS mean is: 4.6924242269597015e-15 XtS variance is: 1.0000000000000018\n",
      "13\n",
      "XtS min is: -0.5236554390963909 XtS max is: 26.13439166227682\n",
      "XtS mean is: -8.625988812127616e-16 XtS variance is: 1.0000000000000044\n",
      "14\n",
      "XtS min is: -19.947454059642116 XtS max is: 11.333696502420235\n",
      "XtS mean is: 1.4210854715202004e-17 XtS variance is: 0.9999999999999992\n",
      "---XvS-----\n",
      "1\n",
      "XvS min is: -4.959933682101541 XvS max is: 1.2324067660744005\n",
      "XvS mean is: -0.0012144320313058202 XvS variance is: 0.9741125366201595\n",
      "2\n",
      "XvS min is: -3.86922276870052 XvS max is: 2.2240059789162934\n",
      "XvS mean is: -0.006624372399291015 XvS variance is: 0.9802179476235562\n",
      "3\n",
      "XvS min is: -4.520923410997954 XvS max is: 1.8097083136974108\n",
      "XvS mean is: 0.00040772578449659453 XvS variance is: 0.9592724411536686\n",
      "4\n",
      "XvS min is: -2.8659787966912105 XvS max is: 1.9735921171659019\n",
      "XvS mean is: -0.0031737539662687114 XvS variance is: 0.9861325286797946\n",
      "5\n",
      "XvS min is: -0.7913585324165047 XvS max is: 7.263818629024941\n",
      "XvS mean is: 0.0023692415047526756 XvS variance is: 1.0300607583261396\n",
      "6\n",
      "XvS min is: -0.5310673584378655 XvS max is: 7.571431181353602\n",
      "XvS mean is: 0.015462798107507114 XvS variance is: 1.0676657572295598\n",
      "7\n",
      "XvS min is: -0.2086171946404002 XvS max is: 14.164847492980924\n",
      "XvS mean is: 0.001524399440105766 XvS variance is: 1.0325341277451374\n",
      "8\n",
      "XvS min is: -1.162543934179288 XvS max is: 8.441047253982365\n",
      "XvS mean is: 0.03410645327943379 XvS variance is: 1.0701604262151412\n",
      "9\n",
      "XvS min is: -2.214112467961791 XvS max is: 4.688630786943438\n",
      "XvS mean is: 0.00672745075592401 XvS variance is: 0.9963526784775225\n",
      "10\n",
      "XvS min is: -0.9956157387103575 XvS max is: 5.322531283932856\n",
      "XvS mean is: 0.0019285411086899416 XvS variance is: 0.9863056351586611\n",
      "11\n",
      "XvS min is: -2.101615032411557 XvS max is: 11.499119698943517\n",
      "XvS mean is: 0.012969858394499732 XvS variance is: 1.021252885826721\n",
      "12\n",
      "XvS min is: -1.7900810698195129 XvS max is: 35.237036438785026\n",
      "XvS mean is: 0.010575581785780174 XvS variance is: 0.9759521221992267\n",
      "13\n",
      "XvS min is: -0.5260028268368686 XvS max is: 54.17332048866682\n",
      "XvS mean is: -0.007685613368567652 XvS variance is: 1.1968201958951001\n",
      "14\n",
      "XvS min is: -19.947454059642116 XvS max is: 15.051367611348267\n",
      "XvS mean is: -0.020755741947537057 XvS variance is: 1.405630589380448\n"
     ]
    }
   ],
   "source": [
    "# 1.2\n",
    "Xtr, Xva, Ytr, Yva = ml.splitData(X, Y)\n",
    "Xt, Yt = Xtr[:5000], Ytr[:5000] # subsample for efficiency (you can go higher)\n",
    "XtS, params = ml.rescale(Xt) # Normalize the features\n",
    "XvS, _ = ml.rescale(Xva, params) # Normalize the features\n",
    "\n",
    "print('---XtS-----')\n",
    "\n",
    "print_info(XtS, 'XtS')\n",
    "\n",
    "print('---XvS-----')\n",
    "\n",
    "print_info(XvS, 'XvS')"
   ]
  },
  {
   "cell_type": "markdown",
   "metadata": {},
   "source": [
    "### Linear Classifiers (20 points)"
   ]
  },
  {
   "cell_type": "code",
   "execution_count": 4,
   "metadata": {},
   "outputs": [],
   "source": [
    "def linear_classfier_print(learner, XtS, Yt, XvS, Yva):\n",
    "    reg = [0.5,1.0,1.5,2.0,2.5,3.0,3.5,4.0] \n",
    "    tr_auc = []\n",
    "    va_auc = []\n",
    "    for r in reg:\n",
    "        learner.train(XtS, Yt, reg=r, initStep=0.5, stopTol=1e-6, stopIter=100)\n",
    "        tr_auc.append(learner.auc(XtS, Yt))\n",
    "        va_auc.append(learner.auc(XvS, Yva))\n",
    "\n",
    "    plt.plot(reg, tr_auc)\n",
    "    plt.xlabel('reg')\n",
    "    plt.ylabel('train')\n",
    "\n",
    "    plt.plot(reg, va_auc)\n",
    "    plt.xlabel('reg')\n",
    "    plt.ylabel('validation')\n",
    "\n",
    "    plt.show()"
   ]
  },
  {
   "cell_type": "code",
   "execution_count": 5,
   "metadata": {},
   "outputs": [
    {
     "name": "stderr",
     "output_type": "stream",
     "text": [
      "/Users/tiv/Desktop/UCI/CS273A/HW4/mltools/linearC.py:122: RuntimeWarning: invalid value encountered in true_divide\n",
      "  sigx  = np.exp(respi) / (1.0+np.exp(respi))\n"
     ]
    },
    {
     "data": {
      "image/png": "[encoded data removed]",
      "text/plain": [
       "<Figure size 432x288 with 1 Axes>"
      ]
     },
     "metadata": {},
     "output_type": "display_data"
    }
   ],
   "source": [
    "# 2.1\n",
    "learner = ml.linearC.linearClassify()\n",
    "linear_classfier_print(learner, XtS, Yt, XvS, Yva)"
   ]
  },
  {
   "cell_type": "code",
   "execution_count": 6,
   "metadata": {},
   "outputs": [
    {
     "name": "stdout",
     "output_type": "stream",
     "text": [
      "119\n"
     ]
    }
   ],
   "source": [
    "# 2.2\n",
    "Xt2 = ml.transforms.fpoly(Xt, 2, bias=False)\n",
    "Xv2 = ml.transforms.fpoly(Xva, 2, bias=False)\n",
    "print(Xt2.shape[1])\n",
    "\n",
    "# We originally have 14 features from x1 -> x14\n",
    "# we pick 2 different from them to combine a new xi * xj feature, it will be 14 * 13 / 2 -> 91\n",
    "# we convert every feature to its square  x1 -> x1 * x1 , it will be 14\n",
    "\n",
    "# so, totally 14 + 14 + 91 = 119"
   ]
  },
  {
   "cell_type": "code",
   "execution_count": 7,
   "metadata": {},
   "outputs": [
    {
     "name": "stderr",
     "output_type": "stream",
     "text": [
      "/Users/tiv/Desktop/UCI/CS273A/HW4/mltools/base.py:96: RuntimeWarning: divide by zero encountered in log\n",
      "  return - np.mean( np.log( P[ np.arange(M), Y ] ) ) # evaluate\n",
      "/Users/tiv/Desktop/UCI/CS273A/HW4/mltools/linearC.py:134: RuntimeWarning: invalid value encountered in double_scalars\n",
      "  done = (it > stopIter) or ( (it>1) and (abs(Jsur[-1]-Jsur[-2])<stopTol) )\n",
      "/Users/tiv/Desktop/UCI/CS273A/HW4/mltools/linearC.py:122: RuntimeWarning: invalid value encountered in true_divide\n",
      "  sigx  = np.exp(respi) / (1.0+np.exp(respi))\n"
     ]
    },
    {
     "data": {
      "image/png": "[encoded data removed]",
      "text/plain": [
       "<Figure size 432x288 with 1 Axes>"
      ]
     },
     "metadata": {},
     "output_type": "display_data"
    }
   ],
   "source": [
    "# 2.3\n",
    "XtS2, params = ml.rescale(Xt2)\n",
    "XvS2, _ = ml.rescale(Xv2, params)\n",
    "learner_trans = ml.linearC.linearClassify()\n",
    "linear_classfier_print(learner_trans, XtS2, Yt, XvS2, Yva)"
   ]
  },
  {
   "cell_type": "markdown",
   "metadata": {},
   "source": [
    "###  Nearest Neighbors (20 points)"
   ]
  },
  {
   "cell_type": "code",
   "execution_count": 8,
   "metadata": {},
   "outputs": [],
   "source": [
    "def nearest_neighbors_print(XtS, Yt, XvS, Yva):\n",
    "    klist = [1, 5, 10, 50, 100, 200, 400] \n",
    "    tr_auc = []\n",
    "    va_auc = []\n",
    "    for k in klist:\n",
    "        learner = ml.knn.knnClassify()\n",
    "        learner.train(XtS, Yt, K=k, alpha=0.0)\n",
    "        tr_auc.append(learner.auc(XtS, Yt))\n",
    "        va_auc.append(learner.auc(XvS, Yva))\n",
    "\n",
    "    plt.plot(klist, tr_auc)\n",
    "    plt.xlabel('k')\n",
    "    plt.ylabel('train')\n",
    "\n",
    "    plt.plot(klist, va_auc)\n",
    "    plt.xlabel('k')\n",
    "    plt.ylabel('validation')\n",
    "\n",
    "    plt.show()"
   ]
  },
  {
   "cell_type": "code",
   "execution_count": 9,
   "metadata": {},
   "outputs": [
    {
     "data": {
      "image/png": "[encoded data removed]",
      "text/plain": [
       "<Figure size 432x288 with 1 Axes>"
      ]
     },
     "metadata": {},
     "output_type": "display_data"
    }
   ],
   "source": [
    "# 3.1\n",
    "nearest_neighbors_print(XtS, Yt, XvS, Yva)"
   ]
  },
  {
   "cell_type": "code",
   "execution_count": 10,
   "metadata": {},
   "outputs": [
    {
     "data": {
      "image/png": "[encoded data removed]",
      "text/plain": [
       "<Figure size 432x288 with 1 Axes>"
      ]
     },
     "metadata": {},
     "output_type": "display_data"
    }
   ],
   "source": [
    "# 3.2\n",
    "nearest_neighbors_print(Xt, Yt, Xva, Yva)"
   ]
  },
  {
   "cell_type": "code",
   "execution_count": null,
   "metadata": {},
   "outputs": [
    {
     "name": "stderr",
     "output_type": "stream",
     "text": [
      "/Users/tiv/Desktop/UCI/CS273A/HW4/mltools/knn.py:103: RuntimeWarning: invalid value encountered in true_divide\n",
      "  prob[i,:] = count / count.sum()    # save (soft) results\n"
     ]
    }
   ],
   "source": [
    "# 3.3\n",
    "K = range(1,10,1) # Or something else\n",
    "A = range(0,5,1) # Or something else\n",
    "tr_auc = np.zeros((len(K),len(A)))\n",
    "va_auc = np.zeros((len(K),len(A)))\n",
    "for i,k in enumerate(K):\n",
    "    for j,a in enumerate(A):\n",
    "        learner = ml.knn.knnClassify()\n",
    "        learner.train(XtS, Yt, K=k, alpha=a)\n",
    "        tr_auc[i][j] = learner.auc(XtS, Yt)  # train learner using k and a\n",
    "        va_auc[i][j] = learner.auc(XvS, Yva)\n",
    "        \n",
    "\n",
    "# training AUC Data\n",
    "f, ax = plt.subplots(1, 1, figsize=(8, 5))\n",
    "cax = ax.matshow(tr_auc, interpolation='nearest')\n",
    "f.colorbar(cax)\n",
    "ax.set_xticklabels(['']+list(K))\n",
    "ax.set_yticklabels(['']+list(A))\n",
    "plt.show()\n",
    "\n",
    "# validation AUC Data\n",
    "f, ax = plt.subplots(1, 1, figsize=(8, 5))\n",
    "cax = ax.matshow(va_auc, interpolation='nearest')\n",
    "f.colorbar(cax)\n",
    "ax.set_xticklabels(['']+list(K))\n",
    "ax.set_yticklabels(['']+list(A))\n",
    "plt.show()"
   ]
  },
  {
   "cell_type": "markdown",
   "metadata": {},
   "source": []
  },
  {
   "cell_type": "markdown",
   "metadata": {},
   "source": [
    "### Decision Trees (20 points)"
   ]
  },
  {
   "cell_type": "code",
   "execution_count": null,
   "metadata": {},
   "outputs": [],
   "source": []
  }
 ],
 "metadata": {
  "kernelspec": {
   "display_name": "Python 3",
   "language": "python",
   "name": "python3"
  },
  "language_info": {
   "codemirror_mode": {
    "name": "ipython",
    "version": 3
   },
   "file_extension": ".py",
   "mimetype": "text/x-python",
   "name": "python",
   "nbconvert_exporter": "python",
   "pygments_lexer": "ipython3",
   "version": "3.6.5"
  }
 },
 "nbformat": 4,
 "nbformat_minor": 2
}
