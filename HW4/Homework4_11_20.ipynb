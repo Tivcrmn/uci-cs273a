{
 "cells": [
  {
   "cell_type": "markdown",
   "metadata": {},
   "source": [
    "### Setting up the data (10 points)\n",
    "\n",
    "The following is the snippet of code to load the datasets, and split it into train and validation data:"
   ]
  },
  {
   "cell_type": "code",
   "execution_count": 1,
   "metadata": {},
   "outputs": [],
   "source": [
    "import numpy as np\n",
    "import matplotlib.pyplot as plt\n",
    "import mltools as ml\n",
    "\n",
    "# Data Loading\n",
    "X = np.genfromtxt('data/X_train.txt', delimiter=None)\n",
    "Y = np.genfromtxt('data/Y_train.txt', delimiter=None)\n",
    "X,Y = ml.shuffleData(X,Y)\n",
    "\n",
    "def print_info(X, name):\n",
    "    for i in range(X.shape[1]):\n",
    "        print(i + 1)\n",
    "        print(name + \" min is:\", np.min(X[:, i]), name + \" max is:\", np.max(X[:, i]))\n",
    "        print(name + \" mean is:\",np.mean(X[:,i]), name + \" variance is:\",np.var(X[:,i]))\n"
   ]
  },
  {
   "cell_type": "code",
   "execution_count": 2,
   "metadata": {},
   "outputs": [
    {
     "name": "stdout",
     "output_type": "stream",
     "text": [
      "1\n",
      " min is: 193.5  max is: 253.0\n",
      " mean is: 241.6011037  variance is: 83.4991711498463\n",
      "2\n",
      " min is: 152.5  max is: 249.0\n",
      " mean is: 227.3765713  variance is: 92.62559312501634\n",
      "3\n",
      " min is: 214.25  max is: 252.5\n",
      " mean is: 241.55415049999996  variance is: 35.28633980334975\n",
      "4\n",
      " min is: 152.5  max is: 252.5\n",
      " mean is: 232.82676815000002  variance is: 97.62573174864559\n",
      "5\n",
      " min is: 10.0  max is: 31048.0\n",
      " mean is: 3089.923365  variance is: 15651513.756432075\n",
      "6\n",
      " min is: 0.0  max is: 13630.0\n",
      " mean is: 928.25902  variance is: 3081761.81694864\n",
      "7\n",
      " min is: 0.0  max is: 9238.0\n",
      " mean is: 138.09383  variance is: 443951.74644593126\n",
      "8\n",
      " min is: 0.0  max is: 125.17\n",
      " mean is: 3.2485793303  variance is: 8.2194850249125\n",
      "9\n",
      " min is: 0.87589  max is: 19.167\n",
      " mean is: 6.49865290275  variance is: 6.405048191357353\n",
      "10\n",
      " min is: 0.0  max is: 13.23\n",
      " mean is: 2.09713912048  variance is: 4.36344047061341\n",
      "11\n",
      " min is: 0.0  max is: 66.761\n",
      " mean is: 4.21766040935  variance is: 4.086371884226909\n",
      "12\n",
      " min is: 0.0  max is: 73.902\n",
      " mean is: 2.6917184521500004  variance is: 2.1987784743582655\n",
      "13\n",
      " min is: 0.99049  max is: 975.04\n",
      " mean is: 10.271590475899998  variance is: 404.6462450411813\n",
      "14\n",
      " min is: -999.9  max is: 797.2\n",
      " mean is: 5.781480499999999  variance is: 3406.5205509781194\n"
     ]
    }
   ],
   "source": [
    "# 1.1 Print the minimum, maximum, mean, and the variance of all of the features.\n",
    "print_info(X, '')"
   ]
  },
  {
   "cell_type": "code",
   "execution_count": 3,
   "metadata": {},
   "outputs": [
    {
     "name": "stdout",
     "output_type": "stream",
     "text": [
      "---XtS-----\n",
      "1\n",
      "XtS min is: -4.53664112139335 XtS max is: 1.256506084095033\n",
      "XtS mean is: -5.088196530778077e-15 XtS variance is: 1.0000000000000024\n",
      "2\n",
      "XtS min is: -7.789940446050521 XtS max is: 1.6671143539860802\n",
      "XtS mean is: -2.6410873488202922e-15 XtS variance is: 0.9999999999999934\n",
      "3\n",
      "XtS min is: -4.4831888345715125 XtS max is: 1.7126613106146114\n",
      "XtS mean is: -3.0038904696993994e-14 XtS variance is: 1.0000000000000073\n",
      "4\n",
      "XtS min is: -8.076837360369813 XtS max is: 1.8837297578721888\n",
      "XtS mean is: -3.4006575333478397e-15 XtS variance is: 0.9999999999999962\n",
      "5\n",
      "XtS min is: -0.7739423810136816 XtS max is: 7.027112223620278\n",
      "XtS mean is: -3.907985046680551e-18 XtS variance is: 0.9999999999999992\n",
      "6\n",
      "XtS min is: -0.5399631986420367 XtS max is: 7.581086893397685\n",
      "XtS mean is: 3.1974423109204507e-18 XtS variance is: 1.0000000000000044\n",
      "7\n",
      "XtS min is: -0.20991442765341914 XtS max is: 14.881688508674536\n",
      "XtS mean is: 1.4566126083082055e-17 XtS variance is: 1.0000000000000742\n",
      "8\n",
      "XtS min is: -0.9683395049985906 XtS max is: 35.86119951104136\n",
      "XtS mean is: -1.9419132968323537e-15 XtS variance is: 0.9999999999999957\n",
      "9\n",
      "XtS min is: -1.8862286468265619 XtS max is: 4.113071193882783\n",
      "XtS mean is: -4.375522166810697e-15 XtS variance is: 0.9999999999999989\n",
      "10\n",
      "XtS min is: -1.0021315538860796 XtS max is: 4.483890811130961\n",
      "XtS mean is: 1.4001244608152774e-15 XtS variance is: 0.9999999999999927\n",
      "11\n",
      "XtS min is: -2.0587145578703296 XtS max is: 11.210566046337282\n",
      "XtS mean is: 3.291233952040784e-15 XtS variance is: 0.9999999999999968\n",
      "12\n",
      "XtS min is: -1.6957285932001374 XtS max is: 33.203067583214256\n",
      "XtS mean is: -3.850431085083983e-15 XtS variance is: 1.0\n",
      "13\n",
      "XtS min is: -0.36215958003987153 XtS max is: 36.862952281685494\n",
      "XtS mean is: 1.4011902749189175e-15 XtS variance is: 0.9999999999999923\n",
      "14\n",
      "XtS min is: -17.95629496906713 XtS max is: 13.942167478269546\n",
      "XtS mean is: 8.952838470577262e-17 XtS variance is: 0.999999999999902\n",
      "---XvS-----\n",
      "1\n",
      "XvS min is: -4.4273364571388525 XvS max is: 1.256506084095033\n",
      "XvS mean is: 0.04133355878783326 XvS variance is: 0.9886725680323031\n",
      "2\n",
      "XvS min is: -3.8928024790024707 XvS max is: 1.7190761935467207\n",
      "XvS mean is: 0.011958289909124958 XvS variance is: 0.9989033923718335\n",
      "3\n",
      "XvS min is: -4.4831888345715125 XvS max is: 1.7958384769472484\n",
      "XvS mean is: 0.016957956972684915 XvS variance is: 1.0323403166729221\n",
      "4\n",
      "XvS min is: -2.7615886773268903 XvS max is: 1.9329450234559205\n",
      "XvS mean is: 0.013307807813837391 XvS variance is: 0.9941203268892331\n",
      "5\n",
      "XvS min is: -0.77343970335374 XvS max is: 7.027112223620278\n",
      "XvS mean is: -0.020156569879402956 XvS variance is: 0.9464384916285431\n",
      "6\n",
      "XvS min is: -0.5399631986420367 XvS max is: 7.581086893397685\n",
      "XvS mean is: -0.014023379249909412 XvS variance is: 0.9792179975658768\n",
      "7\n",
      "XvS min is: -0.20991442765341914 XvS max is: 14.881688508674536\n",
      "XvS mean is: -0.00016140402360999176 XvS variance is: 1.0451642674587693\n",
      "8\n",
      "XvS min is: -0.9683395049985906 XvS max is: 5.911195940667545\n",
      "XvS mean is: 0.001050610781600316 XvS variance is: 0.7001233483377745\n",
      "9\n",
      "XvS min is: -2.0981121953128556 XvS max is: 4.087486147158636\n",
      "XvS mean is: -0.014686918944755194 XvS variance is: 0.9942317244411243\n",
      "10\n",
      "XvS min is: -1.0021315538860796 XvS max is: 4.483890811130961\n",
      "XvS mean is: -0.006731754812985221 XvS variance is: 1.0253612233976888\n",
      "11\n",
      "XvS min is: -2.0587145578703296 XvS max is: 5.739302092903374\n",
      "XvS mean is: 0.031307382284019504 XvS variance is: 0.9864101822357229\n",
      "12\n",
      "XvS min is: -1.6957285932001374 XvS max is: 5.281887562143432\n",
      "XvS mean is: 0.008794804231455637 XvS variance is: 0.7646256855452733\n",
      "13\n",
      "XvS min is: -0.36215958003987153 XvS max is: 36.862952281685494\n",
      "XvS mean is: -0.014087928332401654 XvS variance is: 0.5228059232462354\n",
      "14\n",
      "XvS min is: -17.95629496906713 XvS max is: 7.960313754224812\n",
      "XvS mean is: -0.006932028282179519 XvS variance is: 0.9635103727648174\n"
     ]
    }
   ],
   "source": [
    "# 1.2\n",
    "Xtr, Xva, Ytr, Yva = ml.splitData(X, Y)\n",
    "Xt, Yt = Xtr[:5000], Ytr[:5000] # subsample for efficiency (you can go higher)\n",
    "Xv, Yv = Xva[:5000], Yva[:5000]\n",
    "XtS, params = ml.rescale(Xt) # Normalize the features\n",
    "XvS, _ = ml.rescale(Xv, params) # Normalize the features\n",
    "\n",
    "print('---XtS-----')\n",
    "\n",
    "print_info(XtS, 'XtS')\n",
    "\n",
    "print('---XvS-----')\n",
    "\n",
    "print_info(XvS, 'XvS')"
   ]
  },
  {
   "cell_type": "markdown",
   "metadata": {},
   "source": [
    "### Linear Classifiers (20 points)"
   ]
  },
  {
   "cell_type": "code",
   "execution_count": 4,
   "metadata": {},
   "outputs": [],
   "source": [
    "def linear_classfier_print(learner, XtS, Yt, XvS, Yv):\n",
    "    reg = [0.5,1.0,1.5,2.0,2.5,3.0,3.5,4.0] \n",
    "    tr_auc = []\n",
    "    va_auc = []\n",
    "    for r in reg:\n",
    "        learner.train(XtS, Yt, reg=r, initStep=0.5, stopTol=1e-6, stopIter=100)\n",
    "        tr_auc.append(learner.auc(XtS, Yt))\n",
    "        va_auc.append(learner.auc(XvS, Yv))\n",
    "\n",
    "    plt.plot(reg, tr_auc)\n",
    "    plt.xlabel('reg')\n",
    "    plt.ylabel('train')\n",
    "\n",
    "    plt.plot(reg, va_auc)\n",
    "    plt.xlabel('reg')\n",
    "    plt.ylabel('validation')\n",
    "\n",
    "    plt.show()"
   ]
  },
  {
   "cell_type": "code",
   "execution_count": 5,
   "metadata": {},
   "outputs": [
    {
     "name": "stderr",
     "output_type": "stream",
     "text": [
      "/home/zhangjitao0405/uci-cs273/HW4/mltools/linearC.py:122: RuntimeWarning: invalid value encountered in true_divide\n",
      "  sigx  = np.exp(respi) / (1.0+np.exp(respi))\n"
     ]
    },
    {
     "data": {
      "image/png": "[encoded data removed]",
      "text/plain": [
       "<Figure size 432x288 with 1 Axes>"
      ]
     },
     "metadata": {
      "needs_background": "light"
     },
     "output_type": "display_data"
    }
   ],
   "source": [
    "# 2.1\n",
    "learner = ml.linearC.linearClassify()\n",
    "linear_classfier_print(learner, XtS, Yt, XvS, Yv)"
   ]
  },
  {
   "cell_type": "code",
   "execution_count": 6,
   "metadata": {},
   "outputs": [
    {
     "name": "stdout",
     "output_type": "stream",
     "text": [
      "119\n"
     ]
    }
   ],
   "source": [
    "# 2.2\n",
    "Xt2 = ml.transforms.fpoly(Xt, 2, bias=False)\n",
    "Xv2 = ml.transforms.fpoly(Xv, 2, bias=False)\n",
    "print(Xt2.shape[1])\n",
    "\n",
    "# We originally have 14 features from x1 -> x14\n",
    "# we pick 2 different from them to combine a new xi * xj feature, it will be 14 * 13 / 2 -> 91\n",
    "# we convert every feature to its square  x1 -> x1 * x1 , it will be 14\n",
    "\n",
    "# so, totally 14 + 14 + 91 = 119"
   ]
  },
  {
   "cell_type": "code",
   "execution_count": 7,
   "metadata": {},
   "outputs": [
    {
     "name": "stderr",
     "output_type": "stream",
     "text": [
      "/home/zhangjitao0405/uci-cs273/HW4/mltools/base.py:96: RuntimeWarning: divide by zero encountered in log\n",
      "  return - np.mean( np.log( P[ np.arange(M), Y ] ) ) # evaluate\n",
      "/home/zhangjitao0405/uci-cs273/HW4/mltools/linearC.py:134: RuntimeWarning: invalid value encountered in double_scalars\n",
      "  done = (it > stopIter) or ( (it>1) and (abs(Jsur[-1]-Jsur[-2])<stopTol) )\n",
      "/home/zhangjitao0405/uci-cs273/HW4/mltools/linearC.py:122: RuntimeWarning: invalid value encountered in true_divide\n",
      "  sigx  = np.exp(respi) / (1.0+np.exp(respi))\n"
     ]
    },
    {
     "data": {
      "image/png": "[encoded data removed]",
      "text/plain": [
       "<Figure size 432x288 with 1 Axes>"
      ]
     },
     "metadata": {
      "needs_background": "light"
     },
     "output_type": "display_data"
    }
   ],
   "source": [
    "# 2.3\n",
    "XtS2, params = ml.rescale(Xt2)\n",
    "XvS2, _ = ml.rescale(Xv2, params)\n",
    "learner_trans = ml.linearC.linearClassify()\n",
    "linear_classfier_print(learner_trans, XtS2, Yt, XvS2, Yv)"
   ]
  },
  {
   "cell_type": "markdown",
   "metadata": {},
   "source": [
    "###  Nearest Neighbors (20 points)"
   ]
  },
  {
   "cell_type": "code",
   "execution_count": 8,
   "metadata": {},
   "outputs": [],
   "source": [
    "def nearest_neighbors_print(XtS, Yt, XvS, Yv):\n",
    "    klist = [1, 5, 10, 50, 100, 200, 400] \n",
    "    tr_auc = []\n",
    "    va_auc = []\n",
    "    for k in klist:\n",
    "        learner = ml.knn.knnClassify()\n",
    "        learner.train(XtS, Yt, K=k, alpha=0.0)\n",
    "        tr_auc.append(learner.auc(XtS, Yt))\n",
    "        va_auc.append(learner.auc(XvS, Yv))\n",
    "\n",
    "    plt.plot(klist, tr_auc)\n",
    "    plt.xlabel('k')\n",
    "    plt.ylabel('train')\n",
    "\n",
    "    plt.plot(klist, va_auc)\n",
    "    plt.xlabel('k')\n",
    "    plt.ylabel('validation')\n",
    "\n",
    "    plt.show()"
   ]
  },
  {
   "cell_type": "code",
   "execution_count": 9,
   "metadata": {},
   "outputs": [
    {
     "data": {
      "image/png": "[encoded data removed]",
      "text/plain": [
       "<Figure size 432x288 with 1 Axes>"
      ]
     },
     "metadata": {
      "needs_background": "light"
     },
     "output_type": "display_data"
    }
   ],
   "source": [
    "# 3.1\n",
    "nearest_neighbors_print(XtS, Yt, XvS, Yv)"
   ]
  },
  {
   "cell_type": "code",
   "execution_count": 10,
   "metadata": {},
   "outputs": [
    {
     "data": {
      "image/png": "[encoded data removed]",
      "text/plain": [
       "<Figure size 432x288 with 1 Axes>"
      ]
     },
     "metadata": {
      "needs_background": "light"
     },
     "output_type": "display_data"
    }
   ],
   "source": [
    "# 3.2\n",
    "nearest_neighbors_print(Xt, Yt, Xv, Yv)"
   ]
  },
  {
   "cell_type": "code",
   "execution_count": 11,
   "metadata": {},
   "outputs": [
    {
     "data": {
      "image/png": "[encoded data removed]",
      "text/plain": [
       "<Figure size 576x360 with 2 Axes>"
      ]
     },
     "metadata": {
      "needs_background": "light"
     },
     "output_type": "display_data"
    },
    {
     "data": {
      "image/png": "[encoded data removed]",
      "text/plain": [
       "<Figure size 576x360 with 2 Axes>"
      ]
     },
     "metadata": {
      "needs_background": "light"
     },
     "output_type": "display_data"
    }
   ],
   "source": [
    "# 3.3\n",
    "K = range(1,10,1) # Or something else\n",
    "A = range(0,5,1) # Or something else\n",
    "tr_auc = np.zeros((len(K),len(A)))\n",
    "va_auc = np.zeros((len(K),len(A)))\n",
    "for i,k in enumerate(K):\n",
    "    for j,a in enumerate(A):\n",
    "        learner = ml.knn.knnClassify()\n",
    "        learner.train(XtS, Yt, K=k, alpha=a)\n",
    "        tr_auc[i][j] = learner.auc(XtS, Yt)  # train learner using k and a\n",
    "        va_auc[i][j] = learner.auc(XvS, Yv)\n",
    "        \n",
    "\n",
    "# training AUC Data\n",
    "f, ax = plt.subplots(1, 1, figsize=(8, 5))\n",
    "cax = ax.matshow(tr_auc, interpolation='nearest')\n",
    "f.colorbar(cax)\n",
    "ax.set_xticklabels(['']+list(K))\n",
    "ax.set_yticklabels(['']+list(A))\n",
    "plt.show()\n",
    "\n",
    "# validation AUC Data\n",
    "f, ax = plt.subplots(1, 1, figsize=(8, 5))\n",
    "cax = ax.matshow(va_auc, interpolation='nearest')\n",
    "f.colorbar(cax)\n",
    "ax.set_xticklabels(['']+list(K))\n",
    "ax.set_yticklabels(['']+list(A))\n",
    "plt.show()"
   ]
  },
  {
   "cell_type": "markdown",
   "metadata": {},
   "source": [
    "nothing"
   ]
  },
  {
   "cell_type": "markdown",
   "metadata": {},
   "source": [
    "### Decision Trees (20 points)"
   ]
  },
  {
   "cell_type": "code",
   "execution_count": 14,
   "metadata": {},
   "outputs": [
    {
     "data": {
      "image/png": "[encoded data removed]",
      "text/plain": [
       "<Figure size 432x288 with 1 Axes>"
      ]
     },
     "metadata": {
      "needs_background": "light"
     },
     "output_type": "display_data"
    }
   ],
   "source": [
    "# 4.1\n",
    "depths = range(1,25, 5)\n",
    "tr_auc = []\n",
    "va_auc = []\n",
    "\n",
    "for d in depths:\n",
    "    learner = ml.dtree.treeClassify(Xt, Yt, maxDepth=d)\n",
    "    learner.train(XtS, Yt, minParent=2, maxDepth=d, minLeaf=1, nFeatures=None)\n",
    "    tr_auc.append(learner.auc(XtS, Yt))\n",
    "    va_auc.append(learner.auc(XvS, Yv))\n",
    "\n",
    "plt.plot(depths, tr_auc)\n",
    "plt.xlabel('depth')\n",
    "plt.ylabel('train')\n",
    "\n",
    "plt.plot(depths, va_auc)\n",
    "plt.xlabel('depth')\n",
    "plt.ylabel('validation')\n",
    "\n",
    "plt.show()"
   ]
  },
  {
   "cell_type": "code",
   "execution_count": 15,
   "metadata": {},
   "outputs": [
    {
     "data": {
      "image/png": "[encoded data removed]",
      "text/plain": [
       "<Figure size 432x288 with 1 Axes>"
      ]
     },
     "metadata": {
      "needs_background": "light"
     },
     "output_type": "display_data"
    }
   ],
   "source": [
    "# 4.2\n",
    "node1 = []\n",
    "node2 = []\n",
    "\n",
    "for d in depths:\n",
    "    learner = ml.dtree.treeClassify(Xt, Yt, maxDepth=d)\n",
    "    learner.train(XtS, Yt, minParent=2, maxDepth=d, minLeaf=1, nFeatures=None)\n",
    "    node1.append(learner.sz)\n",
    "    \n",
    "    learner = ml.dtree.treeClassify(Xt, Yt, maxDepth=d)\n",
    "    learner.train(XtS, Yt, minParent=4, maxDepth=d, minLeaf=1, nFeatures=None)\n",
    "    node2.append(learner.sz)\n",
    "\n",
    "plt.plot(depths, node1)\n",
    "plt.plot(depths, node2)\n",
    "plt.show()"
   ]
  },
  {
   "cell_type": "code",
   "execution_count": 16,
   "metadata": {},
   "outputs": [
    {
     "data": {
      "image/png": "[encoded data removed]",
      "text/plain": [
       "<Figure size 576x360 with 2 Axes>"
      ]
     },
     "metadata": {
      "needs_background": "light"
     },
     "output_type": "display_data"
    },
    {
     "data": {
      "image/png": "[encoded data removed]",
      "text/plain": [
       "<Figure size 576x360 with 2 Axes>"
      ]
     },
     "metadata": {
      "needs_background": "light"
     },
     "output_type": "display_data"
    }
   ],
   "source": [
    "# 4.3\n",
    "minLeaves = range(1,6)\n",
    "minParents = range(2,6)\n",
    "\n",
    "tr_auc = np.zeros((len(minParents),len(minLeaves)))\n",
    "va_auc = np.zeros((len(minParents),len(minLeaves)))\n",
    "for i,p in enumerate(minParents):\n",
    "    for j,l in enumerate(minLeaves):\n",
    "        learner = ml.dtree.treeClassify(Xt, Yt, maxDepth=5)\n",
    "        learner.train(XtS, Yt, minParent=p, maxDepth=5, minLeaf=l, nFeatures=None)\n",
    "        tr_auc[i][j] = learner.auc(XtS, Yt)  # train learner using k and a\n",
    "        va_auc[i][j] = learner.auc(XvS, Yv)\n",
    "        \n",
    "\n",
    "# Plotting the Test AUC Data\n",
    "f, ax = plt.subplots(1, 1, figsize=(8, 5))\n",
    "cax = ax.matshow(tr_auc, interpolation='nearest')\n",
    "f.colorbar(cax)\n",
    "ax.set_xticklabels(['']+list(minParents))\n",
    "ax.set_yticklabels(['']+list(minLeaves))\n",
    "plt.show()\n",
    "\n",
    "# Plotting the Validation AUC Data\n",
    "f, ax = plt.subplots(1, 1, figsize=(8, 5))\n",
    "cax = ax.matshow(va_auc, interpolation='nearest')\n",
    "f.colorbar(cax)\n",
    "ax.set_xticklabels(['']+list(minParents))\n",
    "ax.set_yticklabels(['']+list(minLeaves))\n",
    "plt.show()"
   ]
  },
  {
   "cell_type": "markdown",
   "metadata": {},
   "source": [
    "### Neural Networks (20 points)"
   ]
  },
  {
   "cell_type": "code",
   "execution_count": 17,
   "metadata": {
    "scrolled": false
   },
   "outputs": [
    {
     "name": "stdout",
     "output_type": "stream",
     "text": [
      "it 1 : Jsur = 0.43429344162464406, J01 = 0.3538\n",
      "it 2 : Jsur = 0.4330062383902595, J01 = 0.3538\n",
      "it 4 : Jsur = 0.43155188428395286, J01 = 0.3538\n",
      "it 8 : Jsur = 0.43038112394157696, J01 = 0.3538\n",
      "it 16 : Jsur = 0.4302573483003698, J01 = 0.3538\n",
      "it 32 : Jsur = 0.4304564624124494, J01 = 0.3538\n",
      "it 64 : Jsur = 0.4307570153393277, J01 = 0.3538\n",
      "it 128 : Jsur = 0.43109376925902926, J01 = 0.3538\n",
      "it 256 : Jsur = 0.4313169226746549, J01 = 0.3538\n",
      "it 1 : Jsur = 0.45725489985459916, J01 = 0.3538\n",
      "it 2 : Jsur = 0.4578374184089932, J01 = 0.3538\n",
      "it 4 : Jsur = 0.457730134031695, J01 = 0.3538\n",
      "it 8 : Jsur = 0.4573005735501798, J01 = 0.3538\n",
      "it 16 : Jsur = 0.45725214042768314, J01 = 0.3538\n",
      "it 1 : Jsur = 0.45725489984339074, J01 = 0.3538\n",
      "it 2 : Jsur = 0.45783741839285375, J01 = 0.3538\n",
      "it 4 : Jsur = 0.4577301340522072, J01 = 0.3538\n",
      "it 8 : Jsur = 0.45730057354138454, J01 = 0.3538\n",
      "it 16 : Jsur = 0.4572521404248413, J01 = 0.3538\n",
      "it 1 : Jsur = 0.4572548998594194, J01 = 0.3538\n",
      "it 2 : Jsur = 0.45783741841438613, J01 = 0.3538\n",
      "it 4 : Jsur = 0.45773013402832446, J01 = 0.3538\n",
      "it 8 : Jsur = 0.4573005735513596, J01 = 0.3538\n",
      "it 16 : Jsur = 0.45725214042811796, J01 = 0.3538\n",
      "it 1 : Jsur = 0.4330243895377924, J01 = 0.3538\n",
      "it 2 : Jsur = 0.42396836645072544, J01 = 0.32\n",
      "it 4 : Jsur = 0.4214846036608517, J01 = 0.317\n",
      "it 8 : Jsur = 0.41943677871738894, J01 = 0.3184\n",
      "it 16 : Jsur = 0.4181962122607844, J01 = 0.3182\n",
      "it 32 : Jsur = 0.4172138308238944, J01 = 0.317\n",
      "it 64 : Jsur = 0.4158857286120312, J01 = 0.3142\n",
      "it 128 : Jsur = 0.41450158316604946, J01 = 0.3142\n",
      "it 256 : Jsur = 0.41380533006809417, J01 = 0.314\n",
      "it 1 : Jsur = 0.45725489982888395, J01 = 0.3538\n",
      "it 2 : Jsur = 0.45783741844232173, J01 = 0.3538\n",
      "it 4 : Jsur = 0.45773013402665275, J01 = 0.3538\n",
      "it 8 : Jsur = 0.45730057355262543, J01 = 0.3538\n",
      "it 16 : Jsur = 0.4572521404292651, J01 = 0.3538\n",
      "it 1 : Jsur = 0.45725489978960576, J01 = 0.3538\n",
      "it 2 : Jsur = 0.45783741851253246, J01 = 0.3538\n",
      "it 4 : Jsur = 0.4577301340010171, J01 = 0.3538\n",
      "it 8 : Jsur = 0.4573005735602339, J01 = 0.3538\n",
      "it 16 : Jsur = 0.4572521404333702, J01 = 0.3538\n",
      "it 1 : Jsur = 0.4572548998110393, J01 = 0.3538\n",
      "it 2 : Jsur = 0.45783741846817066, J01 = 0.3538\n",
      "it 4 : Jsur = 0.45773013401269047, J01 = 0.3538\n",
      "it 8 : Jsur = 0.4573005735567635, J01 = 0.3538\n",
      "it 16 : Jsur = 0.4572521404312187, J01 = 0.3538\n",
      "it 1 : Jsur = 0.43179193193210647, J01 = 0.3508\n",
      "it 2 : Jsur = 0.4231107087750743, J01 = 0.3192\n",
      "it 4 : Jsur = 0.4207229907335779, J01 = 0.3168\n",
      "it 8 : Jsur = 0.41869027074114373, J01 = 0.316\n",
      "it 16 : Jsur = 0.41760767078881444, J01 = 0.3142\n",
      "it 32 : Jsur = 0.41671387455528636, J01 = 0.3168\n",
      "it 64 : Jsur = 0.4149873130884007, J01 = 0.3144\n",
      "it 128 : Jsur = 0.41169629711660566, J01 = 0.3134\n",
      "it 256 : Jsur = 0.40824112302560045, J01 = 0.3064\n",
      "it 1 : Jsur = 0.45725489983978085, J01 = 0.3538\n",
      "it 2 : Jsur = 0.45783741844317827, J01 = 0.3538\n",
      "it 4 : Jsur = 0.45773013401986284, J01 = 0.3538\n",
      "it 8 : Jsur = 0.45730057355586995, J01 = 0.3538\n",
      "it 16 : Jsur = 0.45725214043020695, J01 = 0.3538\n",
      "it 1 : Jsur = 0.45725489977644973, J01 = 0.3538\n",
      "it 2 : Jsur = 0.45783741858510557, J01 = 0.3538\n",
      "it 4 : Jsur = 0.45773013396280593, J01 = 0.3538\n",
      "it 8 : Jsur = 0.45730057357513215, J01 = 0.3538\n",
      "it 16 : Jsur = 0.45725214043943163, J01 = 0.3538\n",
      "it 1 : Jsur = 0.45725489981026524, J01 = 0.3538\n",
      "it 2 : Jsur = 0.4578374185343508, J01 = 0.3538\n",
      "it 4 : Jsur = 0.45773013398009404, J01 = 0.3538\n",
      "it 8 : Jsur = 0.45730057356997156, J01 = 0.3538\n",
      "it 16 : Jsur = 0.4572521404365404, J01 = 0.3538\n",
      "it 1 : Jsur = 0.43125443425886334, J01 = 0.3512\n",
      "it 2 : Jsur = 0.42277564008032503, J01 = 0.3176\n",
      "it 4 : Jsur = 0.4205076270584505, J01 = 0.3168\n",
      "it 8 : Jsur = 0.41854820671633736, J01 = 0.3162\n",
      "it 16 : Jsur = 0.4174803075434006, J01 = 0.316\n",
      "it 32 : Jsur = 0.41667488208171, J01 = 0.3168\n",
      "it 64 : Jsur = 0.41549804785390815, J01 = 0.3148\n",
      "it 128 : Jsur = 0.4125320190267158, J01 = 0.3144\n",
      "it 256 : Jsur = 0.40955994363716985, J01 = 0.3068\n",
      "it 1 : Jsur = 0.4572548997926488, J01 = 0.3538\n",
      "it 2 : Jsur = 0.4578374185217561, J01 = 0.3538\n",
      "it 4 : Jsur = 0.45773013399816737, J01 = 0.3538\n",
      "it 8 : Jsur = 0.45730057356385134, J01 = 0.3538\n",
      "it 16 : Jsur = 0.45725214043453705, J01 = 0.3538\n",
      "it 1 : Jsur = 0.45725489988103846, J01 = 0.3538\n",
      "it 2 : Jsur = 0.4578374185400638, J01 = 0.3538\n",
      "it 4 : Jsur = 0.4577301339539774, J01 = 0.3538\n",
      "it 8 : Jsur = 0.4573005735823296, J01 = 0.3538\n",
      "it 16 : Jsur = 0.45725214043980794, J01 = 0.3538\n",
      "it 1 : Jsur = 0.45725489978211936, J01 = 0.3538\n",
      "it 2 : Jsur = 0.4578374185633749, J01 = 0.3538\n",
      "it 4 : Jsur = 0.4577301339682961, J01 = 0.3538\n",
      "it 8 : Jsur = 0.45730057357693893, J01 = 0.3538\n",
      "it 16 : Jsur = 0.45725214043931683, J01 = 0.3538\n"
     ]
    },
    {
     "data": {
      "image/png": "[encoded data removed]",
      "text/plain": [
       "<Figure size 576x360 with 2 Axes>"
      ]
     },
     "metadata": {
      "needs_background": "light"
     },
     "output_type": "display_data"
    },
    {
     "data": {
      "image/png": "[encoded data removed]",
      "text/plain": [
       "<Figure size 576x360 with 2 Axes>"
      ]
     },
     "metadata": {
      "needs_background": "light"
     },
     "output_type": "display_data"
    }
   ],
   "source": [
    "# 5.1\n",
    "nodes = range(1,20,6)\n",
    "layers = range(1,20,6)\n",
    "tr_auc = np.zeros((len(nodes),len(layers)))\n",
    "va_auc = np.zeros((len(nodes),len(layers)))\n",
    "for i,node in enumerate(nodes):\n",
    "    for j,layer in enumerate(layers):\n",
    "        nn = ml.nnet.nnetClassify()\n",
    "        size = [XtS.shape[1]] + [node for x in range(1,layer+1)] + [len(np.unique(Yt))]\n",
    "        nn.init_weights(size, 'random', XtS, Yt)\n",
    "        nn.train(XtS, Yt, stopTol=1e-8, stepsize=.25, stopIter=300)\n",
    "        tr_auc[i][j] = nn.auc(XtS, Yt)\n",
    "        va_auc[i][j] = nn.auc(XvS, Yv)\n",
    "\n",
    "# Plotting the Test AUC Data\n",
    "f, ax = plt.subplots(1, 1, figsize=(8, 5))\n",
    "cax = ax.matshow(tr_auc, interpolation='nearest')\n",
    "f.colorbar(cax)\n",
    "ax.set_xticklabels(['']+list(nodes))\n",
    "ax.set_yticklabels(['']+list(layers))\n",
    "plt.show()\n",
    "\n",
    "# Plotting the Validation AUC Data\n",
    "f, ax = plt.subplots(1, 1, figsize=(8, 5))\n",
    "cax = ax.matshow(va_auc, interpolation='nearest')\n",
    "f.colorbar(cax)\n",
    "ax.set_xticklabels(['']+list(nodes))\n",
    "ax.set_yticklabels(['']+list(layers))\n",
    "plt.show()"
   ]
  },
  {
   "cell_type": "code",
   "execution_count": null,
   "metadata": {},
   "outputs": [],
   "source": [
    "# 5.2\n",
    "def sig(z): return np.atleast_2d(z)\n",
    "def dsig(z): return np.atleast_2d(1)\n",
    "\n",
    "tr_auc = np.zeros((len(nodes),len(layers)))\n",
    "va_auc = np.zeros((len(nodes),len(layers)))\n",
    "for i,node in enumerate(nodes):\n",
    "    for j,layer in enumerate(layers):\n",
    "        nn = ml.nnet.nnetClassify()\n",
    "        size = [XtS.shape[1]] + [node for x in range(1,layer+1)] + [len(np.unique(Yt))]\n",
    "        nn.setActivation('custom', sig, dsig)\n",
    "        nn.init_weights(size, 'random', XtS, Yt)\n",
    "        nn.train(XtS, Yt, stopTol=1e-8, stepsize=.25, stopIter=300)\n",
    "        tr_auc[i][j] = nn.auc(XtS, Yt)\n",
    "        va_auc[i][j] = nn.auc(XvS, Yva)\n",
    "\n",
    "# Plotting the Test AUC Data\n",
    "f, ax = plt.subplots(1, 1, figsize=(8, 5))\n",
    "cax = ax.matshow(tr_auc, interpolation='nearest')\n",
    "f.colorbar(cax)\n",
    "ax.set_xticklabels(['']+list(minParents))\n",
    "ax.set_yticklabels(['']+list(minLeaves))\n",
    "plt.show()\n",
    "\n",
    "# Plotting the Validation AUC Data\n",
    "f, ax = plt.subplots(1, 1, figsize=(8, 5))\n",
    "cax = ax.matshow(va_auc, interpolation='nearest')\n",
    "f.colorbar(cax)\n",
    "ax.set_xticklabels(['']+list(minParents))\n",
    "ax.set_yticklabels(['']+list(minLeaves))\n",
    "plt.show()"
   ]
  },
  {
   "cell_type": "markdown",
   "metadata": {},
   "source": [
    "### Conclusions (5 points)"
   ]
  },
  {
   "cell_type": "code",
   "execution_count": null,
   "metadata": {},
   "outputs": [],
   "source": [
    "Xte = np.genfromtxt('data/X_test.txt', delimiter=None)\n",
    "learner = .. # train one using X,Y\n",
    "Yte = np.vstack((np.arange(Xte.shape[0]), learner.predictSoft(Xte)[:,1])).T\n",
    "np.savetxt('Y_submit.txt', Yte, '%d, %.2f', header='ID,Prob1', comments='', delimiter=',')"
   ]
  },
  {
   "cell_type": "markdown",
   "metadata": {},
   "source": [
    "### Statement of Collaboration (5 points)"
   ]
  }
 ],
 "metadata": {
  "kernelspec": {
   "display_name": "Python 3",
   "language": "python",
   "name": "python3"
  },
  "language_info": {
   "codemirror_mode": {
    "name": "ipython",
    "version": 3
   },
   "file_extension": ".py",
   "mimetype": "text/x-python",
   "name": "python",
   "nbconvert_exporter": "python",
   "pygments_lexer": "ipython3",
   "version": "3.7.0"
  }
 },
 "nbformat": 4,
 "nbformat_minor": 2
}
