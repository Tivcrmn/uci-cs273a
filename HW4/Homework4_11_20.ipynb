{
 "cells": [
  {
   "cell_type": "markdown",
   "metadata": {},
   "source": [
    "### Setting up the data (10 points)\n",
    "\n",
    "The following is the snippet of code to load the datasets, and split it into train and validation data:"
   ]
  },
  {
   "cell_type": "code",
   "execution_count": 3,
   "metadata": {},
   "outputs": [],
   "source": [
    "import numpy as np\n",
    "import matplotlib.pyplot as plt\n",
    "import mltools as ml\n",
    "import warnings\n",
    "warnings.filterwarnings(\"ignore\")\n",
    "np.random.seed(0)\n",
    "\n",
    "# Data Loading\n",
    "X = np.genfromtxt('data/X_train.txt', delimiter=None)\n",
    "Y = np.genfromtxt('data/Y_train.txt', delimiter=None)\n",
    "X,Y = ml.shuffleData(X,Y)\n",
    "\n",
    "def print_info(X, name):\n",
    "    for i in range(X.shape[1]):\n",
    "        print(i + 1)\n",
    "        print(name + \" min is:\", np.min(X[:, i]), name + \" max is:\", np.max(X[:, i]))\n",
    "        print(name + \" mean is:\",np.mean(X[:,i]), name + \" variance is:\",np.var(X[:,i]))\n"
   ]
  },
  {
   "cell_type": "code",
   "execution_count": 4,
   "metadata": {},
   "outputs": [
    {
     "name": "stdout",
     "output_type": "stream",
     "text": [
      "1\n",
      " min is: 193.5  max is: 253.0\n",
      " mean is: 241.60110369999998  variance is: 83.49917114984629\n",
      "2\n",
      " min is: 152.5  max is: 249.0\n",
      " mean is: 227.37657129999997  variance is: 92.62559312501632\n",
      "3\n",
      " min is: 214.25  max is: 252.5\n",
      " mean is: 241.55415050000005  variance is: 35.28633980334974\n",
      "4\n",
      " min is: 152.5  max is: 252.5\n",
      " mean is: 232.82676814999996  variance is: 97.62573174864559\n",
      "5\n",
      " min is: 10.0  max is: 31048.0\n",
      " mean is: 3089.923365  variance is: 15651513.756432075\n",
      "6\n",
      " min is: 0.0  max is: 13630.0\n",
      " mean is: 928.25902  variance is: 3081761.8169486397\n",
      "7\n",
      " min is: 0.0  max is: 9238.0\n",
      " mean is: 138.09383  variance is: 443951.74644593114\n",
      "8\n",
      " min is: 0.0  max is: 125.17\n",
      " mean is: 3.2485793303  variance is: 8.219485024912496\n",
      "9\n",
      " min is: 0.87589  max is: 19.167\n",
      " mean is: 6.498652902750002  variance is: 6.405048191357353\n",
      "10\n",
      " min is: 0.0  max is: 13.23\n",
      " mean is: 2.09713912048  variance is: 4.363440470613409\n",
      "11\n",
      " min is: 0.0  max is: 66.761\n",
      " mean is: 4.21766040935  variance is: 4.0863718842269074\n",
      "12\n",
      " min is: 0.0  max is: 73.902\n",
      " mean is: 2.69171845215  variance is: 2.1987784743582655\n",
      "13\n",
      " min is: 0.99049  max is: 975.04\n",
      " mean is: 10.271590475899997  variance is: 404.6462450411813\n",
      "14\n",
      " min is: -999.9  max is: 797.2\n",
      " mean is: 5.781480499999999  variance is: 3406.5205509781194\n"
     ]
    }
   ],
   "source": [
    "# 1.1\n",
    "print_info(X, '')"
   ]
  },
  {
   "cell_type": "code",
   "execution_count": 5,
   "metadata": {},
   "outputs": [
    {
     "name": "stdout",
     "output_type": "stream",
     "text": [
      "---XtS-----\n",
      "1\n",
      "XtS min is: -4.558715587046936 XtS max is: 1.2467770921818002\n",
      "XtS mean is: 1.81572090696136e-14 XtS variance is: 0.9999999999999946\n",
      "2\n",
      "XtS min is: -3.9326292964904943 XtS max is: 1.7308930372367421\n",
      "XtS mean is: -1.0519585202928282e-15 XtS variance is: 0.9999999999999986\n",
      "3\n",
      "XtS min is: -4.561196224457106 XtS max is: 1.7989752876082032\n",
      "XtS mean is: -1.653432946113753e-15 XtS variance is: 0.9999999999999978\n",
      "4\n",
      "XtS min is: -2.8135593973832225 XtS max is: 1.951320393537379\n",
      "XtS mean is: -6.629718996009615e-15 XtS variance is: 0.9999999999999982\n",
      "5\n",
      "XtS min is: -0.7744295934897558 XtS max is: 7.031513625827075\n",
      "XtS mean is: -1.4921397450962103e-17 XtS variance is: 0.9999999999999989\n",
      "6\n",
      "XtS min is: -0.5347218995032653 XtS max is: 7.460144686226129\n",
      "XtS mean is: 9.947598300641403e-18 XtS variance is: 0.9999999999999778\n",
      "7\n",
      "XtS min is: -0.19480860986331436 XtS max is: 14.391481908922685\n",
      "XtS mean is: -2.842170943040401e-18 XtS variance is: 1.0000000000000497\n",
      "8\n",
      "XtS min is: -1.1553268879751641 XtS max is: 8.186649935664953\n",
      "XtS mean is: -6.536993168992922e-16 XtS variance is: 1.0000000000000016\n",
      "9\n",
      "XtS min is: -2.140830184410764 XtS max is: 5.064946549716585\n",
      "XtS mean is: 3.508660029183375e-15 XtS variance is: 1.0\n",
      "10\n",
      "XtS min is: -1.0024927736095837 XtS max is: 4.3952168130922304\n",
      "XtS mean is: 2.618349981275969e-16 XtS variance is: 0.9999999999999892\n",
      "11\n",
      "XtS min is: -2.1093453928675756 XtS max is: 7.360501044689868\n",
      "XtS mean is: -8.668621376273222e-15 XtS variance is: 0.9999999999999988\n",
      "12\n",
      "XtS min is: -1.751340310344071 XtS max is: 28.483776332823346\n",
      "XtS mean is: -6.9448446993192195e-15 XtS variance is: 0.9999999999999992\n",
      "13\n",
      "XtS min is: -0.42259586484552936 XtS max is: 43.56350848326343\n",
      "XtS mean is: -7.048583938740194e-16 XtS variance is: 0.9999999999999992\n",
      "14\n",
      "XtS min is: -18.468655433524297 XtS max is: 12.226513000954224\n",
      "XtS mean is: 2.7711166694643907e-16 XtS variance is: 0.9999999999999882\n",
      "---XvS-----\n",
      "1\n",
      "XvS min is: -4.230102793883045 XvS max is: 1.2467770921818002\n",
      "XvS mean is: -0.02504204744063388 XvS variance is: 0.9535245204498722\n",
      "2\n",
      "XvS min is: -3.6179891668389814 XvS max is: 1.6260129940195711\n",
      "XvS mean is: -0.02238664522470622 XvS variance is: 1.0136176285799137\n",
      "3\n",
      "XvS min is: -4.187271212775128 XvS max is: 1.6576764352675453\n",
      "XvS mean is: -0.025839079885594064 XvS variance is: 1.0458512579575667\n",
      "4\n",
      "XvS min is: -2.9156785527822926 XvS max is: 1.8675826861101397\n",
      "XvS mean is: -0.02471692037279748 XvS variance is: 1.0064341033455237\n",
      "5\n",
      "XvS min is: -0.7744295934897558 XvS max is: 6.3685692890102965\n",
      "XvS mean is: -0.054538690235284036 XvS variance is: 0.7696191811117056\n",
      "6\n",
      "XvS min is: -0.5347218995032653 XvS max is: 7.460144686226129\n",
      "XvS mean is: -0.037224169210829584 XvS variance is: 0.8993656176636575\n",
      "7\n",
      "XvS min is: -0.19480860986331436 XvS max is: 14.391481908922685\n",
      "XvS mean is: 0.020082596785931946 XvS variance is: 1.1711490099981716\n",
      "8\n",
      "XvS min is: -1.1553268879751641 XvS max is: 6.7457753617525045\n",
      "XvS mean is: -0.038318580202897974 XvS variance is: 0.9357086237255657\n",
      "9\n",
      "XvS min is: -1.889639820786076 XvS max is: 4.547168096508955\n",
      "XvS mean is: 0.021375059350481763 XvS variance is: 1.0253144518492092\n",
      "10\n",
      "XvS min is: -1.0024927736095837 XvS max is: 5.431573163147331\n",
      "XvS mean is: 0.021946096051307675 XvS variance is: 1.0328858132766077\n",
      "11\n",
      "XvS min is: -2.1093453928675756 XvS max is: 5.9961884473203115\n",
      "XvS mean is: -0.026882497257373534 XvS variance is: 0.8402125570366493\n",
      "12\n",
      "XvS min is: -1.751340310344071 XvS max is: 3.811978595978712\n",
      "XvS mean is: -0.00291221264757225 XvS variance is: 0.7372482827248072\n",
      "13\n",
      "XvS min is: -0.42018879914925444 XvS max is: 10.93489749717309\n",
      "XvS mean is: -0.013615283953345225 XvS variance is: 0.5873973040946708\n",
      "14\n",
      "XvS min is: -0.11433243529736578 XvS max is: 13.157170242688503\n",
      "XvS mean is: 0.033080367684793444 XvS variance is: 0.34601863725457677\n"
     ]
    }
   ],
   "source": [
    "# 1.2\n",
    "Xtr, Xva, Ytr, Yva = ml.splitData(X, Y)\n",
    "Xt, Yt = Xtr[:5000], Ytr[:5000]\n",
    "Xv, Yv = Xva[:1000], Yva[:1000]\n",
    "XtS, params = ml.rescale(Xt)\n",
    "XvS, _ = ml.rescale(Xv, params)\n",
    "\n",
    "print('---XtS-----')\n",
    "\n",
    "print_info(XtS, 'XtS')\n",
    "\n",
    "print('---XvS-----')\n",
    "\n",
    "print_info(XvS, 'XvS')"
   ]
  },
  {
   "cell_type": "markdown",
   "metadata": {},
   "source": [
    "### Linear Classifiers (20 points)"
   ]
  },
  {
   "cell_type": "code",
   "execution_count": 4,
   "metadata": {},
   "outputs": [],
   "source": [
    "def plot(xlist, tr_auc, va_auc, xname):\n",
    "    plt.plot(xlist, tr_auc, c='r', label='train')\n",
    "    plt.plot(xlist, va_auc, c='b', label='validation')\n",
    "    plt.xlabel(xname)\n",
    "    plt.ylabel('auc')\n",
    "    plt.show()\n",
    "\n",
    "def linear_classfier_print(learner, XtS, Yt, XvS, Yv):\n",
    "    reg = [0.5,1.0,1.5,2.0,2.5,3.0,3.5,4.0] \n",
    "    tr_auc = []\n",
    "    va_auc = []\n",
    "    for r in reg:\n",
    "        learner.train(XtS, Yt, reg=r, initStep=0.5, stopTol=1e-6, stopIter=100)\n",
    "        tr_auc.append(learner.auc(XtS, Yt))\n",
    "        va_auc.append(learner.auc(XvS, Yv))\n",
    "    plot(reg, tr_auc, va_auc, 'reg')"
   ]
  },
  {
   "cell_type": "code",
   "execution_count": 5,
   "metadata": {},
   "outputs": [
    {
     "data": {
      "image/png": "[encoded data removed]",
      "text/plain": [
       "<Figure size 432x288 with 1 Axes>"
      ]
     },
     "metadata": {
      "needs_background": "light"
     },
     "output_type": "display_data"
    }
   ],
   "source": [
    "# 2.1\n",
    "learner = ml.linearC.linearClassify()\n",
    "linear_classfier_print(learner, XtS, Yt, XvS, Yv)"
   ]
  },
  {
   "cell_type": "code",
   "execution_count": 6,
   "metadata": {},
   "outputs": [
    {
     "name": "stdout",
     "output_type": "stream",
     "text": [
      "119\n"
     ]
    }
   ],
   "source": [
    "# 2.2\n",
    "Xt2 = ml.transforms.fpoly(Xt, 2, bias=False)\n",
    "Xv2 = ml.transforms.fpoly(Xv, 2, bias=False)\n",
    "print(Xt2.shape[1])\n",
    "\n",
    "# We originally have 14 features from x1 -> x14\n",
    "# we pick 2 different from them to combine a new xi * xj feature, it will be 14 * 13 / 2 -> 91\n",
    "# we convert every feature to its square  x1 -> x1 * x1 , it will be 14\n",
    "\n",
    "# so, totally 14 + 14 + 91 = 119"
   ]
  },
  {
   "cell_type": "code",
   "execution_count": 7,
   "metadata": {},
   "outputs": [
    {
     "data": {
      "image/png": "[encoded data removed]",
      "text/plain": [
       "<Figure size 432x288 with 1 Axes>"
      ]
     },
     "metadata": {
      "needs_background": "light"
     },
     "output_type": "display_data"
    }
   ],
   "source": [
    "# 2.3\n",
    "XtS2, params = ml.rescale(Xt2)\n",
    "XvS2, _ = ml.rescale(Xv2, params)\n",
    "learner_trans = ml.linearC.linearClassify()\n",
    "linear_classfier_print(learner_trans, XtS2, Yt, XvS2, Yv)"
   ]
  },
  {
   "cell_type": "markdown",
   "metadata": {},
   "source": [
    "###  Nearest Neighbors (20 points)"
   ]
  },
  {
   "cell_type": "code",
   "execution_count": 8,
   "metadata": {},
   "outputs": [],
   "source": [
    "def nearest_neighbors_print(XtS, Yt, XvS, Yv):\n",
    "    klist = [1, 5, 10, 50, 100, 200, 400] \n",
    "    tr_auc = []\n",
    "    va_auc = []\n",
    "    for k in klist:\n",
    "        learner = ml.knn.knnClassify()\n",
    "        learner.train(XtS, Yt, K=k, alpha=0.0)\n",
    "        tr_auc.append(learner.auc(XtS, Yt))\n",
    "        va_auc.append(learner.auc(XvS, Yv))\n",
    "        \n",
    "    plot(klist, tr_auc, va_auc, 'k')"
   ]
  },
  {
   "cell_type": "code",
   "execution_count": 9,
   "metadata": {},
   "outputs": [
    {
     "data": {
      "image/png": "[encoded data removed]",
      "text/plain": [
       "<Figure size 432x288 with 1 Axes>"
      ]
     },
     "metadata": {
      "needs_background": "light"
     },
     "output_type": "display_data"
    }
   ],
   "source": [
    "# 3.1\n",
    "nearest_neighbors_print(XtS, Yt, XvS, Yv)"
   ]
  },
  {
   "cell_type": "code",
   "execution_count": 10,
   "metadata": {},
   "outputs": [
    {
     "data": {
      "image/png": "[encoded data removed]",
      "text/plain": [
       "<Figure size 432x288 with 1 Axes>"
      ]
     },
     "metadata": {
      "needs_background": "light"
     },
     "output_type": "display_data"
    }
   ],
   "source": [
    "# 3.2\n",
    "nearest_neighbors_print(Xt, Yt, Xv, Yv)"
   ]
  },
  {
   "cell_type": "code",
   "execution_count": 11,
   "metadata": {},
   "outputs": [
    {
     "data": {
      "image/png": "[encoded data removed]",
      "text/plain": [
       "<Figure size 432x288 with 2 Axes>"
      ]
     },
     "metadata": {
      "needs_background": "light"
     },
     "output_type": "display_data"
    },
    {
     "data": {
      "image/png": "[encoded data removed]",
      "text/plain": [
       "<Figure size 432x288 with 2 Axes>"
      ]
     },
     "metadata": {
      "needs_background": "light"
     },
     "output_type": "display_data"
    }
   ],
   "source": [
    "# 3.3\n",
    "def plot_2d_auc(_2d_auc, x_list, y_list):\n",
    "    f, ax = plt.subplots(1, 1)\n",
    "    cax = ax.matshow(_2d_auc, interpolation='nearest')\n",
    "    f.colorbar(cax)\n",
    "    ax.set_xticklabels(['']+list(x_list))\n",
    "    ax.set_yticklabels(['']+list(y_list))\n",
    "    plt.show()\n",
    "    \n",
    "K = range(1,10,1) # Or something else\n",
    "A = range(0,5,1) # Or something else\n",
    "tr_auc = np.zeros((len(K),len(A)))\n",
    "va_auc = np.zeros((len(K),len(A)))\n",
    "for i,k in enumerate(K):\n",
    "    for j,a in enumerate(A):\n",
    "        learner = ml.knn.knnClassify()\n",
    "        learner.train(XtS, Yt, K=k, alpha=a)\n",
    "        tr_auc[i][j] = learner.auc(XtS, Yt)  # train learner using k and a\n",
    "        va_auc[i][j] = learner.auc(XvS, Yv)\n",
    "        \n",
    "plot_2d_auc(tr_auc, K, A)\n",
    "plot_2d_auc(va_auc, K, A)"
   ]
  },
  {
   "cell_type": "markdown",
   "metadata": {},
   "source": [
    "I would recommand the K is 9 and a is 2"
   ]
  },
  {
   "cell_type": "markdown",
   "metadata": {},
   "source": [
    "### Decision Trees (20 points)"
   ]
  },
  {
   "cell_type": "code",
   "execution_count": 12,
   "metadata": {},
   "outputs": [
    {
     "data": {
      "image/png": "[encoded data removed]",
      "text/plain": [
       "<Figure size 432x288 with 1 Axes>"
      ]
     },
     "metadata": {
      "needs_background": "light"
     },
     "output_type": "display_data"
    }
   ],
   "source": [
    "# 4.1\n",
    "depths = range(1,25,5)\n",
    "tr_auc = []\n",
    "va_auc = []\n",
    "\n",
    "for d in depths:\n",
    "    learner = ml.dtree.treeClassify(XtS, Yt, maxDepth=d)\n",
    "    tr_auc.append(learner.auc(XtS, Yt))\n",
    "    va_auc.append(learner.auc(XvS, Yv))\n",
    "\n",
    "plot(depths, tr_auc, va_auc, 'depths')"
   ]
  },
  {
   "cell_type": "code",
   "execution_count": 13,
   "metadata": {},
   "outputs": [
    {
     "data": {
      "image/png": "[encoded data removed]",
      "text/plain": [
       "<Figure size 432x288 with 1 Axes>"
      ]
     },
     "metadata": {
      "needs_background": "light"
     },
     "output_type": "display_data"
    }
   ],
   "source": [
    "# 4.2\n",
    "node_minParent_2 = []\n",
    "node_minParent_4 = []\n",
    "\n",
    "for d in depths:\n",
    "    learner = ml.dtree.treeClassify(XtS, Yt, minParent=2, maxDepth=d)\n",
    "    node_minParent_2.append(learner.sz)\n",
    "    \n",
    "    learner = ml.dtree.treeClassify(XtS, Yt, minParent=4, maxDepth=d)\n",
    "    node_minParent_4.append(learner.sz)\n",
    "\n",
    "plot(depths, node_minParent_2, node_minParent_4, 'depths')"
   ]
  },
  {
   "cell_type": "code",
   "execution_count": 14,
   "metadata": {},
   "outputs": [
    {
     "data": {
      "image/png": "[encoded data removed]",
      "text/plain": [
       "<Figure size 432x288 with 2 Axes>"
      ]
     },
     "metadata": {
      "needs_background": "light"
     },
     "output_type": "display_data"
    },
    {
     "data": {
      "image/png": "[encoded data removed]",
      "text/plain": [
       "<Figure size 432x288 with 2 Axes>"
      ]
     },
     "metadata": {
      "needs_background": "light"
     },
     "output_type": "display_data"
    }
   ],
   "source": [
    "# 4.3\n",
    "minParents = range(2,10,1)\n",
    "minLeaves = range(1,10,1)\n",
    "\n",
    "tr_auc = np.zeros((len(minParents),len(minLeaves)))\n",
    "va_auc = np.zeros((len(minParents),len(minLeaves)))\n",
    "for i,p in enumerate(minParents):\n",
    "    for j,l in enumerate(minLeaves):\n",
    "        learner = ml.dtree.treeClassify(XtS, Yt, maxDepth=5)\n",
    "        tr_auc[i][j] = learner.auc(XtS, Yt)\n",
    "        va_auc[i][j] = learner.auc(XvS, Yv)\n",
    "        \n",
    "plot_2d_auc(tr_auc, minParents, minLeaves)\n",
    "plot_2d_auc(va_auc, minParents, minLeaves)"
   ]
  },
  {
   "cell_type": "markdown",
   "metadata": {},
   "source": [
    "I would recommand the minParent is 8 and minLeaf is 3"
   ]
  },
  {
   "cell_type": "markdown",
   "metadata": {},
   "source": [
    "### Neural Networks (20 points)"
   ]
  },
  {
   "cell_type": "code",
   "execution_count": null,
   "metadata": {
    "scrolled": false
   },
   "outputs": [],
   "source": [
    "# 5.1\n",
    "nodes = range(1,5,1)\n",
    "layers = range(1,8,1)\n",
    "tr_auc = np.zeros((len(nodes),len(layers)))\n",
    "va_auc = np.zeros((len(nodes),len(layers)))\n",
    "for i,n in enumerate(nodes):\n",
    "    for j,l in enumerate(layers):\n",
    "        nn = ml.nnet.nnetClassify()\n",
    "        nn.init_weights([XtS.shape[1]] + [n for x in range(1,l+1)] + [2], 'random', XtS, Yt)\n",
    "        nn.train(XtS, Yt, stopTol=1e-8, stepsize=.25, stopIter=300)\n",
    "        tr_auc[i][j] = nn.auc(XtS, Yt)\n",
    "        va_auc[i][j] = nn.auc(XvS, Yv)\n",
    "\n",
    "plot_2d_auc(tr_auc, nodes, layers)\n",
    "plot_2d_auc(va_auc, nodes, layers)"
   ]
  },
  {
   "cell_type": "code",
   "execution_count": null,
   "metadata": {},
   "outputs": [],
   "source": [
    "# 5.2\n",
    "def sig(z): return np.atleast_2d(z)\n",
    "def dsig(z): return np.atleast_2d(1)\n",
    "\n",
    "def activation_switch(name):\n",
    "    nn = ml.nnet.nnetClassify()\n",
    "    nn.init_weights([XtS.shape[1],5,2], 'random', XtS, Yt) \n",
    "    nn.setActivation(name, sig, dsig)\n",
    "    nn.train(XtS, Yt, stopTol=1e-8, stepsize=.25, stopIter=300)\n",
    "    print(name + \" trian auc:\",nn.auc(XtS,Yt))\n",
    "    print(name + \" validation auc:\",nn.auc(XvS,Yv))\n",
    "\n",
    "activation_switch('custom')\n",
    "activation_switch('logistic')\n",
    "activation_switch('htangent')"
   ]
  },
  {
   "cell_type": "markdown",
   "metadata": {},
   "source": [
    "In this case, the custom activation is better than the logistic activation and a little worse than the htangent activation."
   ]
  },
  {
   "cell_type": "markdown",
   "metadata": {},
   "source": [
    "### Conclusions (5 points)"
   ]
  },
  {
   "cell_type": "code",
   "execution_count": null,
   "metadata": {},
   "outputs": [],
   "source": [
    "Xte = np.genfromtxt('data/X_test.txt', delimiter=None)\n",
    "learner = .. # train one using X,Y\n",
    "Yte = np.vstack((np.arange(Xte.shape[0]), learner.predictSoft(Xte)[:,1])).T\n",
    "np.savetxt('Y_submit.txt', Yte, '%d, %.2f', header='ID,Prob1', comments='', delimiter=',')"
   ]
  },
  {
   "cell_type": "markdown",
   "metadata": {},
   "source": [
    "### Statement of Collaboration (5 points)"
   ]
  }
 ],
 "metadata": {
  "kernelspec": {
   "display_name": "Python 3",
   "language": "python",
   "name": "python3"
  },
  "language_info": {
   "codemirror_mode": {
    "name": "ipython",
    "version": 3
   },
   "file_extension": ".py",
   "mimetype": "text/x-python",
   "name": "python",
   "nbconvert_exporter": "python",
   "pygments_lexer": "ipython3",
   "version": "3.7.0"
  }
 },
 "nbformat": 4,
 "nbformat_minor": 2
}
