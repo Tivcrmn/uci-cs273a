{
 "cells": [
  {
   "cell_type": "markdown",
   "metadata": {},
   "source": [
    "### Setting up the data (10 points)\n",
    "\n",
    "The following is the snippet of code to load the datasets, and split it into train and validation data:"
   ]
  },
  {
   "cell_type": "code",
   "execution_count": 1,
   "metadata": {
    "scrolled": false
   },
   "outputs": [],
   "source": [
    "import numpy as np\n",
    "import matplotlib.pyplot as plt\n",
    "import mltools as ml\n",
    "import warnings\n",
    "warnings.filterwarnings(\"ignore\")\n",
    "np.random.seed(0)\n",
    "\n",
    "# Data Loading\n",
    "X = np.genfromtxt('data/X_train.txt', delimiter=None)\n",
    "Y = np.genfromtxt('data/Y_train.txt', delimiter=None)\n",
    "X,Y = ml.shuffleData(X,Y)\n",
    "\n",
    "def print_info(X, name):\n",
    "    for i in range(X.shape[1]):\n",
    "        print(i + 1)\n",
    "        print(name + \" min is:\", np.min(X[:, i]), name + \" max is:\", np.max(X[:, i]))\n",
    "        print(name + \" mean is:\",np.mean(X[:,i]), name + \" variance is:\",np.var(X[:,i]))\n"
   ]
  },
  {
   "cell_type": "code",
   "execution_count": 2,
   "metadata": {
    "scrolled": false
   },
   "outputs": [
    {
     "name": "stdout",
     "output_type": "stream",
     "text": [
      "1\n",
      " min is: 193.5  max is: 253.0\n",
      " mean is: 241.6011037  variance is: 83.4991711498463\n",
      "2\n",
      " min is: 152.5  max is: 249.0\n",
      " mean is: 227.37657130000002  variance is: 92.62559312501628\n",
      "3\n",
      " min is: 214.25  max is: 252.5\n",
      " mean is: 241.55415049999996  variance is: 35.28633980334975\n",
      "4\n",
      " min is: 152.5  max is: 252.5\n",
      " mean is: 232.82676815000005  variance is: 97.6257317486456\n",
      "5\n",
      " min is: 10.0  max is: 31048.0\n",
      " mean is: 3089.923365  variance is: 15651513.756432075\n",
      "6\n",
      " min is: 0.0  max is: 13630.0\n",
      " mean is: 928.25902  variance is: 3081761.8169486397\n",
      "7\n",
      " min is: 0.0  max is: 9238.0\n",
      " mean is: 138.09383  variance is: 443951.7464459313\n",
      "8\n",
      " min is: 0.0  max is: 125.17\n",
      " mean is: 3.2485793303000015  variance is: 8.2194850249125\n",
      "9\n",
      " min is: 0.87589  max is: 19.167\n",
      " mean is: 6.498652902749999  variance is: 6.40504819135735\n",
      "10\n",
      " min is: 0.0  max is: 13.23\n",
      " mean is: 2.09713912048  variance is: 4.36344047061341\n",
      "11\n",
      " min is: 0.0  max is: 66.761\n",
      " mean is: 4.21766040935  variance is: 4.086371884226908\n",
      "12\n",
      " min is: 0.0  max is: 73.902\n",
      " mean is: 2.69171845215  variance is: 2.198778474358265\n",
      "13\n",
      " min is: 0.99049  max is: 975.04\n",
      " mean is: 10.271590475899998  variance is: 404.6462450411812\n",
      "14\n",
      " min is: -999.9  max is: 797.2\n",
      " mean is: 5.781480500000001  variance is: 3406.52055097812\n"
     ]
    }
   ],
   "source": [
    "# 1.1\n",
    "print_info(X, '')"
   ]
  },
  {
   "cell_type": "code",
   "execution_count": 3,
   "metadata": {
    "scrolled": false
   },
   "outputs": [
    {
     "name": "stdout",
     "output_type": "stream",
     "text": [
      "---XtS-----\n",
      "1\n",
      "XtS min is: -4.422165731512143 XtS max is: 1.2446776414093952\n",
      "XtS mean is: 1.0618350643198937e-14 XtS variance is: 0.9999999999999918\n",
      "2\n",
      "XtS min is: -3.837995400836122 XtS max is: 1.8142505916980844\n",
      "XtS mean is: 8.15703060652595e-16 XtS variance is: 0.9999999999999974\n",
      "3\n",
      "XtS min is: -4.599184593067695 XtS max is: 1.8066817941254465\n",
      "XtS mean is: -3.058886477447231e-14 XtS variance is: 0.9999999999999997\n",
      "4\n",
      "XtS min is: -2.910816429908188 XtS max is: 1.9544977425417718\n",
      "XtS mean is: -1.1679901490424526e-14 XtS variance is: 1.0000000000000009\n",
      "5\n",
      "XtS min is: -0.7795113781142542 XtS max is: 7.300953888425734\n",
      "XtS mean is: -3.1974423109204506e-17 XtS variance is: 1.0000000000000009\n",
      "6\n",
      "XtS min is: -0.5162351009819977 XtS max is: 7.373421397063304\n",
      "XtS mean is: 7.105427357601002e-18 XtS variance is: 1.0000000000000244\n",
      "7\n",
      "XtS min is: -0.20010710502010892 XtS max is: 13.767196827061854\n",
      "XtS mean is: -4.263256414560601e-18 XtS variance is: 0.9999999999999484\n",
      "8\n",
      "XtS min is: -1.1381986913324114 XtS max is: 7.353078467636559\n",
      "XtS mean is: 1.581668129801983e-15 XtS variance is: 1.0000000000000004\n",
      "9\n",
      "XtS min is: -2.1005892848226817 XtS max is: 4.726589902128516\n",
      "XtS mean is: -1.8900436771218666e-15 XtS variance is: 1.0000000000000022\n",
      "10\n",
      "XtS min is: -0.9895913731224477 XtS max is: 5.432144742570911\n",
      "XtS mean is: -1.8900436771218666e-15 XtS variance is: 0.9999999999999982\n",
      "11\n",
      "XtS min is: -2.1053692164096467 XtS max is: 7.417399913270711\n",
      "XtS mean is: 1.3642420526593924e-15 XtS variance is: 1.0000000000000004\n",
      "12\n",
      "XtS min is: -1.9498143483595054 XtS max is: 6.112879769015834\n",
      "XtS mean is: 3.182520913469489e-15 XtS variance is: 1.0000000000000004\n",
      "13\n",
      "XtS min is: -0.3759977761619259 XtS max is: 37.41876648085912\n",
      "XtS mean is: -2.0889956431346945e-16 XtS variance is: 0.9999999999999527\n",
      "14\n",
      "XtS min is: -16.304214604124 XtS max is: 12.784747661515619\n",
      "XtS mean is: -1.3145040611561854e-17 XtS variance is: 1.000000000000014\n",
      "---XvS-----\n",
      "1\n",
      "XvS min is: -4.61566770034361 XvS max is: 1.2446776414093952\n",
      "XvS mean is: -0.05404233558077771 XvS variance is: 1.0761190812278203\n",
      "2\n",
      "XvS min is: -3.6286529566681884 XvS max is: 2.128264257949985\n",
      "XvS mean is: -0.039643178652080766 XvS variance is: 1.0778395464703603\n",
      "3\n",
      "XvS min is: -4.038062281679677 XvS max is: 1.7058813789060432\n",
      "XvS mean is: -0.026907998840082412 XvS variance is: 1.059175045008949\n",
      "4\n",
      "XvS min is: -2.5801049161011202 XvS max is: 1.8936305927613308\n",
      "XvS mean is: -0.030701593239765648 XvS variance is: 1.073659162046712\n",
      "5\n",
      "XvS min is: -0.7769079676926613 XvS max is: 7.032281932917349\n",
      "XvS mean is: 0.018621101313276787 XvS variance is: 1.106348813826812\n",
      "6\n",
      "XvS min is: -0.5162351009819977 XvS max is: 7.373421397063304\n",
      "XvS mean is: 0.03505739633237087 XvS variance is: 1.1250339989080196\n",
      "7\n",
      "XvS min is: -0.20010710502010892 XvS max is: 13.767196827061854\n",
      "XvS mean is: 0.02472596828799327 XvS variance is: 1.1705928570908923\n",
      "8\n",
      "XvS min is: -1.1381986913324114 XvS max is: 6.93001325275386\n",
      "XvS mean is: 0.029445192192171725 XvS variance is: 1.1145417707824081\n",
      "9\n",
      "XvS min is: -2.0671703869753504 XvS max is: 3.8863546676534666\n",
      "XvS mean is: 0.034400341816674763 XvS variance is: 1.0553807877500239\n",
      "10\n",
      "XvS min is: -0.9895913731224477 XvS max is: 3.888112801223928\n",
      "XvS mean is: 0.05785622331966825 XvS variance is: 1.0996836711984959\n",
      "11\n",
      "XvS min is: -2.1053692164096467 XvS max is: 4.629433101517929\n",
      "XvS mean is: 0.004416465548632807 XvS variance is: 0.9443423921315708\n",
      "12\n",
      "XvS min is: -1.9498143483595054 XvS max is: 6.018195917592274\n",
      "XvS mean is: 0.02376931024402917 XvS variance is: 0.9714155540649767\n",
      "13\n",
      "XvS min is: -0.3759977761619259 XvS max is: 18.04442969290766\n",
      "XvS mean is: -0.02944093237363216 XvS variance is: 0.4693191109213896\n",
      "14\n",
      "XvS min is: -16.304214604124 XvS max is: 9.626536010860384\n",
      "XvS mean is: 0.026930283239090053 XvS variance is: 0.8842177147527536\n"
     ]
    }
   ],
   "source": [
    "# 1.2\n",
    "Xtr, Xva, Ytr, Yva = ml.splitData(X, Y)\n",
    "Xt, Yt = Xtr[:5000], Ytr[:5000]\n",
    "Xv, Yv = Xva[:1000], Yva[:1000]\n",
    "XtS, params = ml.rescale(Xt)\n",
    "XvS, _ = ml.rescale(Xv, params)\n",
    "\n",
    "print('---XtS-----')\n",
    "\n",
    "print_info(XtS, 'XtS')\n",
    "\n",
    "print('---XvS-----')\n",
    "\n",
    "print_info(XvS, 'XvS')"
   ]
  },
  {
   "cell_type": "markdown",
   "metadata": {},
   "source": [
    "### Linear Classifiers (20 points)"
   ]
  },
  {
   "cell_type": "code",
   "execution_count": 20,
   "metadata": {
    "scrolled": false
   },
   "outputs": [],
   "source": [
    "def plot(xlist, tr_auc, va_auc, xname):\n",
    "    plt.plot(xlist, tr_auc, c='r', label='train')\n",
    "    plt.plot(xlist, va_auc, c='b', label='validation')\n",
    "    plt.xlabel(xname)\n",
    "    plt.ylabel('auc')\n",
    "    plt.legend()\n",
    "    plt.show()\n",
    "\n",
    "def linear_classfier_print(learner, XtS, Yt, XvS, Yv):\n",
    "    reg = [0.5,1.0,1.5,2.0,2.5,3.0,3.5,4.0] \n",
    "    tr_auc = []\n",
    "    va_auc = []\n",
    "    for r in reg:\n",
    "        learner.train(XtS, Yt, reg=r, initStep=0.5, stopTol=1e-6, stopIter=100)\n",
    "        tr_auc.append(learner.auc(XtS, Yt))\n",
    "        va_auc.append(learner.auc(XvS, Yv))\n",
    "    plot(reg, tr_auc, va_auc, 'reg')"
   ]
  },
  {
   "cell_type": "code",
   "execution_count": 21,
   "metadata": {
    "scrolled": false
   },
   "outputs": [
    {
     "data": {
      "image/png": "[encoded data removed]",
      "text/plain": [
       "<Figure size 432x288 with 1 Axes>"
      ]
     },
     "metadata": {
      "needs_background": "light"
     },
     "output_type": "display_data"
    }
   ],
   "source": [
    "# 2.1\n",
    "learner = ml.linearC.linearClassify()\n",
    "linear_classfier_print(learner, XtS, Yt, XvS, Yv)"
   ]
  },
  {
   "cell_type": "code",
   "execution_count": 22,
   "metadata": {
    "scrolled": false
   },
   "outputs": [
    {
     "name": "stdout",
     "output_type": "stream",
     "text": [
      "119\n"
     ]
    }
   ],
   "source": [
    "# 2.2\n",
    "Xt2 = ml.transforms.fpoly(Xt, 2, bias=False)\n",
    "Xv2 = ml.transforms.fpoly(Xv, 2, bias=False)\n",
    "print(Xt2.shape[1])\n",
    "\n",
    "# We originally have 14 features from x1 -> x14\n",
    "# we pick 2 different from them to combine a new xi * xj feature, it will be 14 * 13 / 2 -> 91\n",
    "# we convert every feature to its square  x1 -> x1 * x1 , it will be 14\n",
    "\n",
    "# so, totally 14 + 14 + 91 = 119"
   ]
  },
  {
   "cell_type": "code",
   "execution_count": 23,
   "metadata": {
    "scrolled": false
   },
   "outputs": [
    {
     "data": {
      "image/png": "[encoded data removed]",
      "text/plain": [
       "<Figure size 432x288 with 1 Axes>"
      ]
     },
     "metadata": {
      "needs_background": "light"
     },
     "output_type": "display_data"
    }
   ],
   "source": [
    "# 2.3\n",
    "XtS2, params = ml.rescale(Xt2)\n",
    "XvS2, _ = ml.rescale(Xv2, params)\n",
    "learner_trans = ml.linearC.linearClassify()\n",
    "linear_classfier_print(learner_trans, XtS2, Yt, XvS2, Yv)"
   ]
  },
  {
   "cell_type": "markdown",
   "metadata": {},
   "source": [
    "###  Nearest Neighbors (20 points)"
   ]
  },
  {
   "cell_type": "code",
   "execution_count": 24,
   "metadata": {
    "scrolled": false
   },
   "outputs": [],
   "source": [
    "def nearest_neighbors_print(XtS, Yt, XvS, Yv):\n",
    "    klist = [1, 5, 10, 50, 100, 200, 400] \n",
    "    tr_auc = []\n",
    "    va_auc = []\n",
    "    for k in klist:\n",
    "        learner = ml.knn.knnClassify()\n",
    "        learner.train(XtS, Yt, K=k, alpha=0.0)\n",
    "        tr_auc.append(learner.auc(XtS, Yt))\n",
    "        va_auc.append(learner.auc(XvS, Yv))\n",
    "        \n",
    "    plot(klist, tr_auc, va_auc, 'k')"
   ]
  },
  {
   "cell_type": "code",
   "execution_count": 25,
   "metadata": {
    "scrolled": false
   },
   "outputs": [
    {
     "data": {
      "image/png": "[encoded data removed]",
      "text/plain": [
       "<Figure size 432x288 with 1 Axes>"
      ]
     },
     "metadata": {
      "needs_background": "light"
     },
     "output_type": "display_data"
    }
   ],
   "source": [
    "# 3.1\n",
    "nearest_neighbors_print(XtS, Yt, XvS, Yv)"
   ]
  },
  {
   "cell_type": "code",
   "execution_count": 26,
   "metadata": {
    "scrolled": false
   },
   "outputs": [
    {
     "data": {
      "image/png": "[encoded data removed]",
      "text/plain": [
       "<Figure size 432x288 with 1 Axes>"
      ]
     },
     "metadata": {
      "needs_background": "light"
     },
     "output_type": "display_data"
    }
   ],
   "source": [
    "# 3.2\n",
    "nearest_neighbors_print(Xt, Yt, Xv, Yv)"
   ]
  },
  {
   "cell_type": "code",
   "execution_count": 27,
   "metadata": {
    "scrolled": false
   },
   "outputs": [
    {
     "data": {
      "image/png": "[encoded data removed]",
      "text/plain": [
       "<Figure size 432x288 with 2 Axes>"
      ]
     },
     "metadata": {
      "needs_background": "light"
     },
     "output_type": "display_data"
    },
    {
     "data": {
      "image/png": "[encoded data removed]",
      "text/plain": [
       "<Figure size 432x288 with 2 Axes>"
      ]
     },
     "metadata": {
      "needs_background": "light"
     },
     "output_type": "display_data"
    }
   ],
   "source": [
    "# 3.3\n",
    "def plot_2d_auc(_2d_auc, x_list, y_list):\n",
    "    f, ax = plt.subplots(1, 1)\n",
    "    cax = ax.matshow(_2d_auc, interpolation='nearest')\n",
    "    f.colorbar(cax)\n",
    "    ax.set_xticklabels(['']+list(x_list))\n",
    "    ax.set_yticklabels(['']+list(y_list))\n",
    "    plt.show()\n",
    "    \n",
    "K = range(1,10,2) # Or something else\n",
    "A = range(0,5,1) # Or something else\n",
    "tr_auc = np.zeros((len(K),len(A)))\n",
    "va_auc = np.zeros((len(K),len(A)))\n",
    "for i,k in enumerate(K):\n",
    "    for j,a in enumerate(A):\n",
    "        learner = ml.knn.knnClassify()\n",
    "        learner.train(XtS, Yt, K=k, alpha=a)\n",
    "        tr_auc[i][j] = learner.auc(XtS, Yt)  # train learner using k and a\n",
    "        va_auc[i][j] = learner.auc(XvS, Yv)\n",
    "        \n",
    "plot_2d_auc(tr_auc, K, A)\n",
    "plot_2d_auc(va_auc, K, A)"
   ]
  },
  {
   "cell_type": "markdown",
   "metadata": {},
   "source": [
    "I would recommand the K is 9 and a is 4"
   ]
  },
  {
   "cell_type": "markdown",
   "metadata": {},
   "source": [
    "### Decision Trees (20 points)"
   ]
  },
  {
   "cell_type": "code",
   "execution_count": 28,
   "metadata": {
    "scrolled": false
   },
   "outputs": [
    {
     "data": {
      "image/png": "[encoded data removed]",
      "text/plain": [
       "<Figure size 432x288 with 1 Axes>"
      ]
     },
     "metadata": {
      "needs_background": "light"
     },
     "output_type": "display_data"
    }
   ],
   "source": [
    "# 4.1\n",
    "depths = range(1,15,3)\n",
    "tr_auc = []\n",
    "va_auc = []\n",
    "\n",
    "for d in depths:\n",
    "    learner = ml.dtree.treeClassify(XtS, Yt, maxDepth=d)\n",
    "    tr_auc.append(learner.auc(XtS, Yt))\n",
    "    va_auc.append(learner.auc(XvS, Yv))\n",
    "\n",
    "plot(depths, tr_auc, va_auc, 'depths')"
   ]
  },
  {
   "cell_type": "code",
   "execution_count": 29,
   "metadata": {
    "scrolled": false
   },
   "outputs": [
    {
     "data": {
      "image/png": "[encoded data removed]",
      "text/plain": [
       "<Figure size 432x288 with 1 Axes>"
      ]
     },
     "metadata": {
      "needs_background": "light"
     },
     "output_type": "display_data"
    }
   ],
   "source": [
    "# 4.2\n",
    "node_minParent_2 = []\n",
    "node_minParent_4 = []\n",
    "\n",
    "for d in depths:\n",
    "    learner = ml.dtree.treeClassify(XtS, Yt, minParent=2, maxDepth=d)\n",
    "    node_minParent_2.append(learner.sz)\n",
    "    \n",
    "    learner = ml.dtree.treeClassify(XtS, Yt, minParent=4, maxDepth=d)\n",
    "    node_minParent_4.append(learner.sz)\n",
    "\n",
    "plot(depths, node_minParent_2, node_minParent_4, 'depths')"
   ]
  },
  {
   "cell_type": "code",
   "execution_count": 30,
   "metadata": {
    "scrolled": false
   },
   "outputs": [
    {
     "data": {
      "image/png": "[encoded data removed]",
      "text/plain": [
       "<Figure size 432x288 with 2 Axes>"
      ]
     },
     "metadata": {
      "needs_background": "light"
     },
     "output_type": "display_data"
    },
    {
     "data": {
      "image/png": "[encoded data removed]",
      "text/plain": [
       "<Figure size 432x288 with 2 Axes>"
      ]
     },
     "metadata": {
      "needs_background": "light"
     },
     "output_type": "display_data"
    }
   ],
   "source": [
    "# 4.3\n",
    "minParents = range(2,10,1)\n",
    "minLeaves = range(1,10,1)\n",
    "\n",
    "tr_auc = np.zeros((len(minParents),len(minLeaves)))\n",
    "va_auc = np.zeros((len(minParents),len(minLeaves)))\n",
    "for i,p in enumerate(minParents):\n",
    "    for j,l in enumerate(minLeaves):\n",
    "        learner = ml.dtree.treeClassify(XtS, Yt, maxDepth=5, minParent=p, minLeaf=l)\n",
    "        tr_auc[i][j] = learner.auc(XtS, Yt)\n",
    "        va_auc[i][j] = learner.auc(XvS, Yv)\n",
    "        \n",
    "plot_2d_auc(tr_auc, minParents, minLeaves)\n",
    "plot_2d_auc(va_auc, minParents, minLeaves)"
   ]
  },
  {
   "cell_type": "markdown",
   "metadata": {},
   "source": [
    "I would recommand the minParent is 5 and minLeaf is 4"
   ]
  },
  {
   "cell_type": "markdown",
   "metadata": {},
   "source": [
    "### Neural Networks (20 points)"
   ]
  },
  {
   "cell_type": "code",
   "execution_count": 11,
   "metadata": {
    "scrolled": false
   },
   "outputs": [
    {
     "name": "stdout",
     "output_type": "stream",
     "text": [
      "it 1 : Jsur = 0.4296502101781726, J01 = 0.3502\n",
      "it 2 : Jsur = 0.4238574781100193, J01 = 0.3464\n",
      "it 4 : Jsur = 0.418745515715708, J01 = 0.3382\n",
      "it 8 : Jsur = 0.4196007150339245, J01 = 0.3396\n",
      "it 16 : Jsur = 0.4201426819449854, J01 = 0.3358\n",
      "it 32 : Jsur = 0.4208984570137945, J01 = 0.3358\n",
      "it 64 : Jsur = 0.42172210687331463, J01 = 0.3358\n",
      "it 1 : Jsur = 0.4583770471196328, J01 = 0.3358\n",
      "it 2 : Jsur = 0.45199486535671285, J01 = 0.3358\n",
      "it 4 : Jsur = 0.4481873399703674, J01 = 0.3358\n",
      "it 8 : Jsur = 0.4467273771100121, J01 = 0.3358\n",
      "it 16 : Jsur = 0.4462173650168064, J01 = 0.3358\n",
      "it 32 : Jsur = 0.44609837160744953, J01 = 0.3358\n",
      "it 64 : Jsur = 0.44608000223317595, J01 = 0.3358\n",
      "it 1 : Jsur = 0.45837704704160626, J01 = 0.3358\n",
      "it 2 : Jsur = 0.45199486531702204, J01 = 0.3358\n",
      "it 4 : Jsur = 0.44818733989156834, J01 = 0.3358\n",
      "it 8 : Jsur = 0.44672737710933663, J01 = 0.3358\n",
      "it 16 : Jsur = 0.44621736511695265, J01 = 0.3358\n",
      "it 32 : Jsur = 0.4460983718615803, J01 = 0.3358\n",
      "it 64 : Jsur = 0.4460800026508643, J01 = 0.3358\n",
      "it 1 : Jsur = 0.4583770471676769, J01 = 0.3358\n",
      "it 2 : Jsur = 0.4519948653415997, J01 = 0.3358\n",
      "it 4 : Jsur = 0.4481873398918944, J01 = 0.3358\n",
      "it 8 : Jsur = 0.446727377108524, J01 = 0.3358\n",
      "it 16 : Jsur = 0.4462173651163462, J01 = 0.3358\n",
      "it 32 : Jsur = 0.4460983718612062, J01 = 0.3358\n",
      "it 64 : Jsur = 0.44608000265080927, J01 = 0.3358\n",
      "it 1 : Jsur = 0.42621910840709526, J01 = 0.3332\n",
      "it 2 : Jsur = 0.41860109416920566, J01 = 0.3242\n",
      "it 4 : Jsur = 0.4147743882968403, J01 = 0.3184\n",
      "it 8 : Jsur = 0.41311960532025804, J01 = 0.317\n",
      "it 16 : Jsur = 0.41316322293420626, J01 = 0.3156\n",
      "it 32 : Jsur = 0.41301112001657464, J01 = 0.3172\n",
      "it 64 : Jsur = 0.41302285434640196, J01 = 0.3174\n",
      "it 1 : Jsur = 0.45837704747870067, J01 = 0.3358\n",
      "it 2 : Jsur = 0.4519948653706002, J01 = 0.3358\n",
      "it 4 : Jsur = 0.44818733990542586, J01 = 0.3358\n",
      "it 8 : Jsur = 0.44672737711014904, J01 = 0.3358\n",
      "it 16 : Jsur = 0.44621736511361415, J01 = 0.3358\n",
      "it 32 : Jsur = 0.44609837185522483, J01 = 0.3358\n",
      "it 64 : Jsur = 0.44608000264141084, J01 = 0.3358\n",
      "it 1 : Jsur = 0.45837704716707395, J01 = 0.3358\n",
      "it 2 : Jsur = 0.45199486532986266, J01 = 0.3358\n",
      "it 4 : Jsur = 0.4481873398955884, J01 = 0.3358\n",
      "it 8 : Jsur = 0.44672737711007376, J01 = 0.3358\n",
      "it 16 : Jsur = 0.44621736511723487, J01 = 0.3358\n",
      "it 32 : Jsur = 0.4460983718615678, J01 = 0.3358\n",
      "it 64 : Jsur = 0.44608000265078374, J01 = 0.3358\n",
      "it 1 : Jsur = 0.45837704746868513, J01 = 0.3358\n",
      "it 2 : Jsur = 0.4519948653335321, J01 = 0.3358\n",
      "it 4 : Jsur = 0.4481873398965077, J01 = 0.3358\n",
      "it 8 : Jsur = 0.4467273771129043, J01 = 0.3358\n",
      "it 16 : Jsur = 0.4462173651186218, J01 = 0.3358\n",
      "it 32 : Jsur = 0.4460983718627404, J01 = 0.3358\n",
      "it 64 : Jsur = 0.44608000265105163, J01 = 0.3358\n",
      "it 1 : Jsur = 0.4264369282077744, J01 = 0.3296\n",
      "it 2 : Jsur = 0.41845589725851406, J01 = 0.3198\n",
      "it 4 : Jsur = 0.41350239206970446, J01 = 0.3158\n",
      "it 8 : Jsur = 0.4101133446966807, J01 = 0.3102\n",
      "it 16 : Jsur = 0.408100525824242, J01 = 0.3086\n",
      "it 32 : Jsur = 0.40717124117734255, J01 = 0.3048\n",
      "it 64 : Jsur = 0.4065497805432002, J01 = 0.3032\n",
      "it 1 : Jsur = 0.4583770480314497, J01 = 0.3358\n",
      "it 2 : Jsur = 0.4519948655046284, J01 = 0.3358\n",
      "it 4 : Jsur = 0.4481873399774312, J01 = 0.3358\n",
      "it 8 : Jsur = 0.4467273771216621, J01 = 0.3358\n",
      "it 16 : Jsur = 0.44621736505789195, J01 = 0.3358\n",
      "it 32 : Jsur = 0.4460983717232941, J01 = 0.3358\n",
      "it 64 : Jsur = 0.44608000241907336, J01 = 0.3358\n",
      "it 1 : Jsur = 0.45837704815518066, J01 = 0.3358\n",
      "it 2 : Jsur = 0.45199486542176953, J01 = 0.3358\n",
      "it 4 : Jsur = 0.44818733990183657, J01 = 0.3358\n",
      "it 8 : Jsur = 0.44672737711371374, J01 = 0.3358\n",
      "it 16 : Jsur = 0.4462173651188522, J01 = 0.3358\n",
      "it 32 : Jsur = 0.44609837186315315, J01 = 0.3358\n",
      "it 64 : Jsur = 0.44608000265164593, J01 = 0.3358\n",
      "it 1 : Jsur = 0.45837704740812796, J01 = 0.3358\n",
      "it 2 : Jsur = 0.4519948653348424, J01 = 0.3358\n",
      "it 4 : Jsur = 0.4481873398992472, J01 = 0.3358\n",
      "it 8 : Jsur = 0.4467273771126562, J01 = 0.3358\n",
      "it 16 : Jsur = 0.44621736511861193, J01 = 0.3358\n",
      "it 32 : Jsur = 0.4460983718624757, J01 = 0.3358\n",
      "it 64 : Jsur = 0.4460800026510073, J01 = 0.3358\n",
      "it 1 : Jsur = 0.42928805926356234, J01 = 0.3448\n",
      "it 2 : Jsur = 0.4201708161702349, J01 = 0.3288\n",
      "it 4 : Jsur = 0.4156998942737797, J01 = 0.3248\n",
      "it 8 : Jsur = 0.4110253435628797, J01 = 0.3148\n",
      "it 16 : Jsur = 0.4065770619138516, J01 = 0.3042\n",
      "it 32 : Jsur = 0.4045018150459933, J01 = 0.3\n",
      "it 64 : Jsur = 0.4028363001249143, J01 = 0.298\n",
      "it 1 : Jsur = 0.4583770479566792, J01 = 0.3358\n",
      "it 2 : Jsur = 0.451994867652955, J01 = 0.3358\n",
      "it 4 : Jsur = 0.4481873408321132, J01 = 0.3358\n",
      "it 8 : Jsur = 0.4467273738432708, J01 = 0.3358\n",
      "it 16 : Jsur = 0.4462173497961104, J01 = 0.3358\n",
      "it 32 : Jsur = 0.44609831486758067, J01 = 0.3358\n",
      "it 64 : Jsur = 0.4460796735675763, J01 = 0.3358\n",
      "it 1 : Jsur = 0.45837704739108903, J01 = 0.3358\n",
      "it 2 : Jsur = 0.4519948653416397, J01 = 0.3358\n",
      "it 4 : Jsur = 0.4481873398930363, J01 = 0.3358\n",
      "it 8 : Jsur = 0.44672737710990496, J01 = 0.3358\n",
      "it 16 : Jsur = 0.44621736511554355, J01 = 0.3358\n",
      "it 32 : Jsur = 0.4460983718602538, J01 = 0.3358\n",
      "it 64 : Jsur = 0.4460800026490025, J01 = 0.3358\n",
      "it 1 : Jsur = 0.45837704817551367, J01 = 0.3358\n",
      "it 2 : Jsur = 0.45199486543800993, J01 = 0.3358\n",
      "it 4 : Jsur = 0.4481873399128808, J01 = 0.3358\n",
      "it 8 : Jsur = 0.4467273771137774, J01 = 0.3358\n",
      "it 16 : Jsur = 0.44621736511859583, J01 = 0.3358\n",
      "it 32 : Jsur = 0.44609837186202267, J01 = 0.3358\n",
      "it 64 : Jsur = 0.4460800026509316, J01 = 0.3358\n"
     ]
    },
    {
     "data": {
      "image/png": "[encoded data removed]",
      "text/plain": [
       "<Figure size 432x288 with 2 Axes>"
      ]
     },
     "metadata": {
      "needs_background": "light"
     },
     "output_type": "display_data"
    },
    {
     "data": {
      "image/png": "[encoded data removed]",
      "text/plain": [
       "<Figure size 432x288 with 2 Axes>"
      ]
     },
     "metadata": {
      "needs_background": "light"
     },
     "output_type": "display_data"
    }
   ],
   "source": [
    "# 5.1    \n",
    "nodes = range(1,5,1)\n",
    "layers = range(1,5,1)\n",
    "tr_auc = np.zeros((len(nodes),len(layers)))\n",
    "va_auc = np.zeros((len(nodes),len(layers)))\n",
    "for i,n in enumerate(nodes):\n",
    "    for j,l in enumerate(layers):\n",
    "        nn = ml.nnet.nnetClassify()\n",
    "        nn.init_weights([XtS.shape[1]] + [n for x in range(1,l+1)] + [2], 'random', XtS, Yt)\n",
    "        nn.train(XtS, Yt, stopTol=1e-8, stepsize=.25, stopIter=100) # 100 is fast to train and have good loss\n",
    "        tr_auc[i][j] = nn.auc(XtS, Yt)\n",
    "        va_auc[i][j] = nn.auc(XvS, Yv)\n",
    "\n",
    "plot_2d_auc(tr_auc, nodes, layers)\n",
    "plot_2d_auc(va_auc, nodes, layers)"
   ]
  },
  {
   "cell_type": "markdown",
   "metadata": {},
   "source": [
    "I would recommand node in each layer is 1 and layer is 4"
   ]
  },
  {
   "cell_type": "code",
   "execution_count": 8,
   "metadata": {
    "scrolled": false
   },
   "outputs": [
    {
     "name": "stdout",
     "output_type": "stream",
     "text": [
      "it 1 : Jsur = 0.42819687386713884, J01 = 0.3158\n",
      "it 2 : Jsur = 0.42093900358358705, J01 = 0.3118\n",
      "it 4 : Jsur = 0.4144339962260583, J01 = 0.308\n",
      "it 8 : Jsur = 0.4106676759077357, J01 = 0.3038\n",
      "it 16 : Jsur = 0.40858074970950875, J01 = 0.3028\n",
      "it 32 : Jsur = 0.40785215124017515, J01 = 0.3028\n",
      "it 64 : Jsur = 0.4076627646432501, J01 = 0.3066\n",
      "it 128 : Jsur = 0.407622396771068, J01 = 0.3068\n",
      "custom trian auc: 0.6689293267758963\n",
      "custom validation auc: 0.652075197529743\n",
      "--------------------------------------\n",
      "it 1 : Jsur = 0.42765489442144583, J01 = 0.3332\n",
      "it 2 : Jsur = 0.41905220900461027, J01 = 0.3182\n",
      "it 4 : Jsur = 0.4160824986668333, J01 = 0.3114\n",
      "it 8 : Jsur = 0.41576681017076755, J01 = 0.3114\n",
      "it 16 : Jsur = 0.4163553446794329, J01 = 0.3104\n",
      "it 32 : Jsur = 0.4171461617350992, J01 = 0.3358\n",
      "it 64 : Jsur = 0.41790631087278646, J01 = 0.3358\n",
      "it 128 : Jsur = 0.4185841961631624, J01 = 0.3358\n",
      "it 256 : Jsur = 0.4191842893240295, J01 = 0.3358\n",
      "logistic trian auc: 0.6613361037984676\n",
      "logistic validation auc: 0.6567674749492931\n",
      "--------------------------------------\n",
      "it 1 : Jsur = 0.4276510592379618, J01 = 0.3326\n",
      "it 2 : Jsur = 0.4176318159494635, J01 = 0.3214\n",
      "it 4 : Jsur = 0.4129018700604993, J01 = 0.315\n",
      "it 8 : Jsur = 0.40924389695730223, J01 = 0.3082\n",
      "it 16 : Jsur = 0.40613519509548635, J01 = 0.3004\n",
      "it 32 : Jsur = 0.40283726765453365, J01 = 0.3\n",
      "it 64 : Jsur = 0.40004460378725837, J01 = 0.299\n",
      "it 128 : Jsur = 0.39796238997938516, J01 = 0.2978\n",
      "it 256 : Jsur = 0.39655660541082005, J01 = 0.298\n",
      "htangent trian auc: 0.690548567519955\n",
      "htangent validation auc: 0.6656373929101203\n",
      "--------------------------------------\n"
     ]
    }
   ],
   "source": [
    "# 5.2\n",
    "def sig(z): return np.atleast_2d(z)\n",
    "def dsig(z): return np.atleast_2d(1)\n",
    "\n",
    "def activation_switch(name):\n",
    "    nn = ml.nnet.nnetClassify()\n",
    "    nn.init_weights([XtS.shape[1],5,2], 'random', XtS, Yt) \n",
    "    nn.setActivation(name, sig, dsig)\n",
    "    nn.train(XtS, Yt, stopTol=1e-8, stepsize=.25, stopIter=300)\n",
    "    print(name + \" trian auc:\",nn.auc(XtS,Yt))\n",
    "    print(name + \" validation auc:\",nn.auc(XvS,Yv))\n",
    "    print('--------------------------------------')\n",
    "\n",
    "activation_switch('custom')\n",
    "activation_switch('logistic')\n",
    "activation_switch('htangent')"
   ]
  },
  {
   "cell_type": "markdown",
   "metadata": {},
   "source": [
    "In this case, the custom activation is better than the logistic activation and a little worse than the htangent activation."
   ]
  },
  {
   "cell_type": "markdown",
   "metadata": {},
   "source": [
    "### Conclusions (5 points)"
   ]
  },
  {
   "cell_type": "code",
   "execution_count": 8,
   "metadata": {
    "scrolled": false
   },
   "outputs": [
    {
     "name": "stdout",
     "output_type": "stream",
     "text": [
      "finished\n"
     ]
    }
   ],
   "source": [
    "Xte = np.genfromtxt('data/X_test.txt', delimiter=None)\n",
    "learner = ml.knn.knnClassify()\n",
    "learner.train(X, Y, K=9, alpha=4.0)\n",
    "Yte = np.vstack((np.arange(Xte.shape[0]), learner.predictSoft(Xte)[:,1])).T\n",
    "np.savetxt('Y_submit.txt', Yte, '%d, %.2f', header='72004843,Prob1', comments='', delimiter=',')\n",
    "print('finished')"
   ]
  },
  {
   "cell_type": "markdown",
   "metadata": {},
   "source": [
    "### Statement of Collaboration (5 points)"
   ]
  },
  {
   "cell_type": "markdown",
   "metadata": {},
   "source": [
    "I did my homework independently."
   ]
  }
 ],
 "metadata": {
  "kernelspec": {
   "display_name": "Python 3",
   "language": "python",
   "name": "python3"
  },
  "language_info": {
   "codemirror_mode": {
    "name": "ipython",
    "version": 3
   },
   "file_extension": ".py",
   "mimetype": "text/x-python",
   "name": "python",
   "nbconvert_exporter": "python",
   "pygments_lexer": "ipython3",
   "version": "3.7.0"
  }
 },
 "nbformat": 4,
 "nbformat_minor": 2
}
