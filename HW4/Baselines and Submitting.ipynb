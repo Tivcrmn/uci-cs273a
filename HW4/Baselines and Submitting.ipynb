{
 "cells": [
  {
   "cell_type": "code",
   "execution_count": 1,
   "metadata": {
    "collapsed": true
   },
   "outputs": [],
   "source": [
    "%load_ext autoreload\n",
    "%autoreload 2\n",
    "\n",
    "import numpy as np\n",
    "np.random.seed(0)\n",
    "import matplotlib.pyplot as plt   # use matplotlib for plotting with inline plots\n",
    "%matplotlib inline\n",
    "\n",
    "import mltools as ml"
   ]
  },
  {
   "cell_type": "code",
   "execution_count": 5,
   "metadata": {},
   "outputs": [
    {
     "data": {
      "text/plain": [
       "((200000, 14), (200000,), (200000, 14))"
      ]
     },
     "execution_count": 5,
     "metadata": {},
     "output_type": "execute_result"
    }
   ],
   "source": [
    "# Load the data\n",
    "Xtr = np.loadtxt('X_train.txt')\n",
    "Ytr = np.loadtxt('Y_train.txt')\n",
    "Xte = np.loadtxt('X_test.txt')\n",
    "Xtr.shape, Ytr.shape, Xte.shape"
   ]
  },
  {
   "cell_type": "code",
   "execution_count": 10,
   "metadata": {},
   "outputs": [
    {
     "name": "stdout",
     "output_type": "stream",
     "text": [
      "(200000, 2) [[  0.00000000e+00   2.21801319e-05]\n",
      " [  1.00000000e+00   5.40604260e-01]\n",
      " [  2.00000000e+00   9.88051107e-02]\n",
      " [  3.00000000e+00   5.42885104e-01]\n",
      " [  4.00000000e+00   3.69008147e-01]\n",
      " [  5.00000000e+00   5.13646949e-01]\n",
      " [  6.00000000e+00   2.37419681e-01]\n",
      " [  7.00000000e+00   1.30192174e-01]\n",
      " [  8.00000000e+00   8.11240733e-01]\n",
      " [  9.00000000e+00   7.41507117e-02]]\n"
     ]
    }
   ],
   "source": [
    "# Random guessing baseline\n",
    "Yrnd = np.vstack((np.arange(Xte.shape[0]),np.random.random(Xte.shape[0]))).T\n",
    "print(Yrnd.shape, Yrnd[:10])\n",
    "np.savetxt('Y_random.txt', Yrnd,'%d, %.2f', header='ID,Prob1', comments='', delimiter=',')"
   ]
  },
  {
   "cell_type": "code",
   "execution_count": 15,
   "metadata": {},
   "outputs": [
    {
     "name": "stdout",
     "output_type": "stream",
     "text": [
      "(200000, 14) (200000, 14)\n"
     ]
    }
   ],
   "source": [
    "# Scaling the data\n",
    "XtrP, params = ml.rescale(Xtr)\n",
    "XteP,_    = ml.rescale(Xte, params)\n",
    "print(XtrP.shape, XteP.shape)"
   ]
  },
  {
   "cell_type": "code",
   "execution_count": 18,
   "metadata": {},
   "outputs": [
    {
     "name": "stdout",
     "output_type": "stream",
     "text": [
      "Train AUC 0.652601803692\n"
     ]
    }
   ],
   "source": [
    "## Linear models:\n",
    "learner = ml.linearC.linearClassify();\n",
    "learner.train(XtrP, Ytr, initStep=0.5, stopTol=1e-6, stopIter=100)\n",
    "print(\"Train AUC\", learner.auc(XtrP, Ytr))\n",
    "Ylogreg = np.vstack((np.arange(Xte.shape[0]), learner.predictSoft(XteP)[:,1])).T\n",
    "np.savetxt('Y_logreg.txt', Ylogreg,'%d, %.2f',header='ID,Prob1',comments='',delimiter=',')"
   ]
  },
  {
   "cell_type": "code",
   "execution_count": 17,
   "metadata": {
    "scrolled": true
   },
   "outputs": [
    {
     "name": "stderr",
     "output_type": "stream",
     "text": [
      "/mnt/c/Users/sameer/Google Drive/Documents/Teaching/ml-fa17/project/mltools/dtree.py:88: VisibleDeprecationWarning: using a non-integer number instead of an integer will result in an error in the future\n",
      "  self.L, self.R, self.F, self.T = np.zeros((sz,)), np.zeros((sz,)), np.zeros((sz,)), np.zeros((sz,))\n",
      "/mnt/c/Users/sameer/Google Drive/Documents/Teaching/ml-fa17/project/mltools/dtree.py:91: VisibleDeprecationWarning: using a non-integer number instead of an integer will result in an error in the future\n",
      "  self.P = np.zeros(sh,dtype=Y.dtype) #np.zeros((sz,1))  # shape like Y\n",
      "/mnt/c/Users/sameer/Google Drive/Documents/Teaching/ml-fa17/project/mltools/dtree.py:158: VisibleDeprecationWarning: using a non-integer number instead of an integer will result in an error in the future\n",
      "  go_left = X[:,self.F[self.sz]] < self.T[self.sz]  # index data going left & right\n",
      "/mnt/c/Users/sameer/Google Drive/Documents/Teaching/ml-fa17/project/mltools/dtree.py:184: VisibleDeprecationWarning: using a non-integer number instead of an integer will result in an error in the future\n",
      "  go_left = X[:,self.F[pos]] < self.T[pos]  # which data should follow left split?\n",
      "/mnt/c/Users/sameer/Google Drive/Documents/Teaching/ml-fa17/project/mltools/dtree.py:181: VisibleDeprecationWarning: using a non-integer number instead of an integer will result in an error in the future\n",
      "  if self.F[pos] == -1:        # feature to compare = -1 => leaf node\n",
      "/mnt/c/Users/sameer/Google Drive/Documents/Teaching/ml-fa17/project/mltools/dtree.py:185: VisibleDeprecationWarning: using a non-integer number instead of an integer will result in an error in the future\n",
      "  Yhat[go_left]  = self.__predict_recursive(X[go_left,:],  self.L[pos])\n",
      "/mnt/c/Users/sameer/Google Drive/Documents/Teaching/ml-fa17/project/mltools/dtree.py:182: VisibleDeprecationWarning: using a non-integer number instead of an integer will result in an error in the future\n",
      "  Yhat[:] = self.P[pos]    # predict stored value\n",
      "/mnt/c/Users/sameer/Google Drive/Documents/Teaching/ml-fa17/project/mltools/dtree.py:187: VisibleDeprecationWarning: using a non-integer number instead of an integer will result in an error in the future\n",
      "  Yhat[go_right] = self.__predict_recursive(X[go_right,:], self.R[pos])\n"
     ]
    },
    {
     "name": "stdout",
     "output_type": "stream",
     "text": [
      "Train AUC 0.784871692317\n"
     ]
    }
   ],
   "source": [
    "## DTree:\n",
    "learner = ml.dtree.treeClassify(Xtr, Ytr, minLeaf=25, maxDepth=15);\n",
    "print(\"Train AUC\", learner.auc(Xtr, Ytr))\n",
    "Ydtree = np.vstack((np.arange(Xte.shape[0]), learner.predictSoft(Xte)[:,1])).T\n",
    "np.savetxt('Y_dtree.txt', Ydtree, '%d, %.2f', header='ID,Prob1', comments='', delimiter=',')"
   ]
  }
 ],
 "metadata": {
  "kernelspec": {
   "display_name": "Python 3",
   "language": "python",
   "name": "python3"
  },
  "language_info": {
   "codemirror_mode": {
    "name": "ipython",
    "version": 3
   },
   "file_extension": ".py",
   "mimetype": "text/x-python",
   "name": "python",
   "nbconvert_exporter": "python",
   "pygments_lexer": "ipython3",
   "version": "3.5.2"
  }
 },
 "nbformat": 4,
 "nbformat_minor": 2
}
