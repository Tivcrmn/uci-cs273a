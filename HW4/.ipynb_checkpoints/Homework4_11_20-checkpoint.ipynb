{
 "cells": [
  {
   "cell_type": "markdown",
   "metadata": {},
   "source": [
    "### Setting up the data (10 points)\n",
    "\n",
    "The following is the snippet of code to load the datasets, and split it into train and validation data:"
   ]
  },
  {
   "cell_type": "code",
   "execution_count": 1,
   "metadata": {},
   "outputs": [],
   "source": [
    "import numpy as np\n",
    "import matplotlib.pyplot as plt\n",
    "import mltools as ml\n",
    "import warnings\n",
    "warnings.filterwarnings(\"ignore\")\n",
    "\n",
    "# Data Loading\n",
    "X = np.genfromtxt('data/X_train.txt', delimiter=None)\n",
    "Y = np.genfromtxt('data/Y_train.txt', delimiter=None)\n",
    "X,Y = ml.shuffleData(X,Y)\n",
    "\n",
    "def print_info(X, name):\n",
    "    for i in range(X.shape[1]):\n",
    "        print(i + 1)\n",
    "        print(name + \" min is:\", np.min(X[:, i]), name + \" max is:\", np.max(X[:, i]))\n",
    "        print(name + \" mean is:\",np.mean(X[:,i]), name + \" variance is:\",np.var(X[:,i]))\n"
   ]
  },
  {
   "cell_type": "code",
   "execution_count": 2,
   "metadata": {},
   "outputs": [
    {
     "name": "stdout",
     "output_type": "stream",
     "text": [
      "1\n",
      " min is: 193.5  max is: 253.0\n",
      " mean is: 241.60110369999998  variance is: 83.49917114984629\n",
      "2\n",
      " min is: 152.5  max is: 249.0\n",
      " mean is: 227.3765713  variance is: 92.6255931250163\n",
      "3\n",
      " min is: 214.25  max is: 252.5\n",
      " mean is: 241.55415050000005  variance is: 35.28633980334974\n",
      "4\n",
      " min is: 152.5  max is: 252.5\n",
      " mean is: 232.82676815000002  variance is: 97.6257317486456\n",
      "5\n",
      " min is: 10.0  max is: 31048.0\n",
      " mean is: 3089.923365  variance is: 15651513.756432073\n",
      "6\n",
      " min is: 0.0  max is: 13630.0\n",
      " mean is: 928.25902  variance is: 3081761.8169486397\n",
      "7\n",
      " min is: 0.0  max is: 9238.0\n",
      " mean is: 138.09383  variance is: 443951.74644593126\n",
      "8\n",
      " min is: 0.0  max is: 125.17\n",
      " mean is: 3.2485793302999997  variance is: 8.219485024912498\n",
      "9\n",
      " min is: 0.87589  max is: 19.167\n",
      " mean is: 6.49865290275  variance is: 6.405048191357352\n",
      "10\n",
      " min is: 0.0  max is: 13.23\n",
      " mean is: 2.09713912048  variance is: 4.36344047061341\n",
      "11\n",
      " min is: 0.0  max is: 66.761\n",
      " mean is: 4.21766040935  variance is: 4.0863718842269074\n",
      "12\n",
      " min is: 0.0  max is: 73.902\n",
      " mean is: 2.69171845215  variance is: 2.1987784743582655\n",
      "13\n",
      " min is: 0.99049  max is: 975.04\n",
      " mean is: 10.271590475900004  variance is: 404.6462450411814\n",
      "14\n",
      " min is: -999.9  max is: 797.2\n",
      " mean is: 5.781480500000001  variance is: 3406.5205509781194\n"
     ]
    }
   ],
   "source": [
    "# 1.1\n",
    "print_info(X, '')"
   ]
  },
  {
   "cell_type": "code",
   "execution_count": 3,
   "metadata": {},
   "outputs": [
    {
     "name": "stdout",
     "output_type": "stream",
     "text": [
      "---XtS-----\n",
      "1\n",
      "XtS min is: -4.409920248606356 XtS max is: 1.2475079623476482\n",
      "XtS mean is: -4.591527158481767e-15 XtS variance is: 0.9999999999999958\n",
      "2\n",
      "XtS min is: -3.727456218323593 XtS max is: 2.2899420091388087\n",
      "XtS mean is: 6.821210263296962e-16 XtS variance is: 1.0000000000000056\n",
      "3\n",
      "XtS min is: -4.443712395788029 XtS max is: 1.883191774154549\n",
      "XtS mean is: 7.367617627096478e-15 XtS variance is: 1.0000000000000016\n",
      "4\n",
      "XtS min is: -2.743945864489327 XtS max is: 2.024264759697808\n",
      "XtS mean is: -8.490701475238893e-14 XtS variance is: 1.000000000000003\n",
      "5\n",
      "XtS min is: -0.7685672811365233 XtS max is: 6.695758246400086\n",
      "XtS mean is: 3.907985046680551e-18 XtS variance is: 1.000000000000001\n",
      "6\n",
      "XtS min is: -0.5425522381545144 XtS max is: 7.192812474258901\n",
      "XtS mean is: -1.5631940186722205e-17 XtS variance is: 0.9999999999999923\n",
      "7\n",
      "XtS min is: -0.20424916981735927 XtS max is: 14.244281367207018\n",
      "XtS mean is: 3.819167204710538e-17 XtS variance is: 0.9999999999999487\n",
      "8\n",
      "XtS min is: -1.1209489817976044 XtS max is: 7.895006807498953\n",
      "XtS mean is: -8.419931418757187e-16 XtS variance is: 1.000000000000001\n",
      "9\n",
      "XtS min is: -2.2463926757302146 XtS max is: 4.181581428154928\n",
      "XtS mean is: 4.021671884402167e-15 XtS variance is: 0.9999999999999997\n",
      "10\n",
      "XtS min is: -1.018120261899197 XtS max is: 4.317956818848742\n",
      "XtS mean is: 1.4495071809506045e-16 XtS variance is: 0.9999999999999861\n",
      "11\n",
      "XtS min is: -2.1504297081870876 XtS max is: 7.107897733032075\n",
      "XtS mean is: -5.623235210805433e-15 XtS variance is: 0.9999999999999978\n",
      "12\n",
      "XtS min is: -1.9708179679787765 XtS max is: 11.880332749102438\n",
      "XtS mean is: 2.2083668227423915e-15 XtS variance is: 1.0000000000000016\n",
      "13\n",
      "XtS min is: -0.4663782777476984 XtS max is: 48.8153522198706\n",
      "XtS mean is: -7.858602657506708e-16 XtS variance is: 0.9999999999999951\n",
      "14\n",
      "XtS min is: -15.45185340661842 XtS max is: 9.633909021752316\n",
      "XtS mean is: 1.6200374375330285e-16 XtS variance is: 0.9999999999999775\n",
      "---XvS-----\n",
      "1\n",
      "XvS min is: -4.409920248606356 XvS max is: 1.2475079623476482\n",
      "XvS mean is: 0.01124849043712106 XvS variance is: 1.0141507704695447\n",
      "2\n",
      "XvS min is: -3.727456218323593 XvS max is: 1.7093158643836648\n",
      "XvS mean is: 0.01836699962123513 XvS variance is: 1.0206673322108495\n",
      "3\n",
      "XvS min is: -4.687649510132812 XvS max is: 1.8282200300768519\n",
      "XvS mean is: 0.009811769171075568 XvS variance is: 1.057056191330891\n",
      "4\n",
      "XvS min is: -2.7511099499946514 XvS max is: 1.9352254112744802\n",
      "XvS mean is: 0.016424791805738147 XvS variance is: 1.0215567863922714\n",
      "5\n",
      "XvS min is: -0.7700105460382416 XvS max is: 6.695758246400086\n",
      "XvS mean is: -0.024673864324455324 XvS variance is: 0.9529943000072846\n",
      "6\n",
      "XvS min is: -0.5425522381545144 XvS max is: 7.192812474258901\n",
      "XvS mean is: -0.015623620639318714 XvS variance is: 1.0083168156220916\n",
      "7\n",
      "XvS min is: -0.20424916981735927 XvS max is: 14.244281367207018\n",
      "XvS mean is: 0.020008665421103397 XvS variance is: 1.2734599979647425\n",
      "8\n",
      "XvS min is: -1.1209489817976044 XvS max is: 11.124276144688187\n",
      "XvS mean is: -0.02339061995510777 XvS variance is: 0.9125907867987407\n",
      "9\n",
      "XvS min is: -1.9935753638057596 XvS max is: 3.897445390888591\n",
      "XvS mean is: -0.016010653642923846 XvS variance is: 1.000531799315939\n",
      "10\n",
      "XvS min is: -1.018120261899197 XvS max is: 4.417917719818409\n",
      "XvS mean is: -0.01676857403254051 XvS variance is: 1.0084137701425868\n",
      "11\n",
      "XvS min is: -2.1504297081870876 XvS max is: 7.07924685235633\n",
      "XvS mean is: 0.006476420042960949 XvS variance is: 1.0741510235835967\n",
      "12\n",
      "XvS min is: -1.9708179679787765 XvS max is: 10.106365902464463\n",
      "XvS mean is: -0.00715767496967123 XvS variance is: 1.0620605989952103\n",
      "13\n",
      "XvS min is: -0.4663782777476984 XvS max is: 48.8153522198706\n",
      "XvS mean is: 0.01960562432935991 XvS variance is: 1.2556752646809972\n",
      "14\n",
      "XvS min is: -15.45185340661842 XvS max is: 9.902954092841664\n",
      "XvS mean is: 0.017453799331789543 XvS variance is: 0.7122510408620187\n"
     ]
    }
   ],
   "source": [
    "# 1.2\n",
    "Xtr, Xva, Ytr, Yva = ml.splitData(X, Y)\n",
    "Xt, Yt = Xtr[:5000], Ytr[:5000]\n",
    "Xv, Yv = Xva[:5000], Yva[:5000]\n",
    "XtS, params = ml.rescale(Xt)\n",
    "XvS, _ = ml.rescale(Xv, params)\n",
    "\n",
    "print('---XtS-----')\n",
    "\n",
    "print_info(XtS, 'XtS')\n",
    "\n",
    "print('---XvS-----')\n",
    "\n",
    "print_info(XvS, 'XvS')"
   ]
  },
  {
   "cell_type": "markdown",
   "metadata": {},
   "source": [
    "### Linear Classifiers (20 points)"
   ]
  },
  {
   "cell_type": "code",
   "execution_count": 4,
   "metadata": {},
   "outputs": [],
   "source": [
    "def plot(xlist, tr_auc, va_auc, xname):\n",
    "    plt.plot(xlist, tr_auc, c='r', label='train')\n",
    "    plt.plot(xlist, va_auc, c='b', label='validation')\n",
    "    plt.xlabel(xname)\n",
    "    plt.ylabel('auc')\n",
    "    plt.show()\n",
    "\n",
    "def linear_classfier_print(learner, XtS, Yt, XvS, Yv):\n",
    "    reg = [0.5,1.0,1.5,2.0,2.5,3.0,3.5,4.0] \n",
    "    tr_auc = []\n",
    "    va_auc = []\n",
    "    for r in reg:\n",
    "        learner.train(XtS, Yt, reg=r, initStep=0.5, stopTol=1e-6, stopIter=100)\n",
    "        tr_auc.append(learner.auc(XtS, Yt))\n",
    "        va_auc.append(learner.auc(XvS, Yv))\n",
    "    plot(reg, tr_auc, va_auc, 'reg')"
   ]
  },
  {
   "cell_type": "code",
   "execution_count": 5,
   "metadata": {},
   "outputs": [
    {
     "data": {
      "image/png": "[encoded data removed]",
      "text/plain": [
       "<Figure size 432x288 with 1 Axes>"
      ]
     },
     "metadata": {
      "needs_background": "light"
     },
     "output_type": "display_data"
    }
   ],
   "source": [
    "# 2.1\n",
    "learner = ml.linearC.linearClassify()\n",
    "linear_classfier_print(learner, XtS, Yt, XvS, Yv)"
   ]
  },
  {
   "cell_type": "code",
   "execution_count": 6,
   "metadata": {},
   "outputs": [
    {
     "name": "stdout",
     "output_type": "stream",
     "text": [
      "119\n"
     ]
    }
   ],
   "source": [
    "# 2.2\n",
    "Xt2 = ml.transforms.fpoly(Xt, 2, bias=False)\n",
    "Xv2 = ml.transforms.fpoly(Xv, 2, bias=False)\n",
    "print(Xt2.shape[1])\n",
    "\n",
    "# We originally have 14 features from x1 -> x14\n",
    "# we pick 2 different from them to combine a new xi * xj feature, it will be 14 * 13 / 2 -> 91\n",
    "# we convert every feature to its square  x1 -> x1 * x1 , it will be 14\n",
    "\n",
    "# so, totally 14 + 14 + 91 = 119"
   ]
  },
  {
   "cell_type": "code",
   "execution_count": 7,
   "metadata": {},
   "outputs": [
    {
     "data": {
      "image/png": "[encoded data removed]",
      "text/plain": [
       "<Figure size 432x288 with 1 Axes>"
      ]
     },
     "metadata": {
      "needs_background": "light"
     },
     "output_type": "display_data"
    }
   ],
   "source": [
    "# 2.3\n",
    "XtS2, params = ml.rescale(Xt2)\n",
    "XvS2, _ = ml.rescale(Xv2, params)\n",
    "learner_trans = ml.linearC.linearClassify()\n",
    "linear_classfier_print(learner_trans, XtS2, Yt, XvS2, Yv)"
   ]
  },
  {
   "cell_type": "markdown",
   "metadata": {},
   "source": [
    "###  Nearest Neighbors (20 points)"
   ]
  },
  {
   "cell_type": "code",
   "execution_count": 8,
   "metadata": {},
   "outputs": [],
   "source": [
    "def nearest_neighbors_print(XtS, Yt, XvS, Yv):\n",
    "    klist = [1, 5, 10, 50, 100, 200, 400] \n",
    "    tr_auc = []\n",
    "    va_auc = []\n",
    "    for k in klist:\n",
    "        learner = ml.knn.knnClassify()\n",
    "        learner.train(XtS, Yt, K=k, alpha=0.0)\n",
    "        tr_auc.append(learner.auc(XtS, Yt))\n",
    "        va_auc.append(learner.auc(XvS, Yv))\n",
    "        \n",
    "    plot(klist, tr_auc, va_auc, 'k')"
   ]
  },
  {
   "cell_type": "code",
   "execution_count": 9,
   "metadata": {},
   "outputs": [
    {
     "data": {
      "image/png": "[encoded data removed]",
      "text/plain": [
       "<Figure size 432x288 with 1 Axes>"
      ]
     },
     "metadata": {
      "needs_background": "light"
     },
     "output_type": "display_data"
    }
   ],
   "source": [
    "# 3.1\n",
    "nearest_neighbors_print(XtS, Yt, XvS, Yv)"
   ]
  },
  {
   "cell_type": "code",
   "execution_count": 10,
   "metadata": {},
   "outputs": [
    {
     "data": {
      "image/png": "[encoded data removed]",
      "text/plain": [
       "<Figure size 432x288 with 1 Axes>"
      ]
     },
     "metadata": {
      "needs_background": "light"
     },
     "output_type": "display_data"
    }
   ],
   "source": [
    "# 3.2\n",
    "nearest_neighbors_print(Xt, Yt, Xv, Yv)"
   ]
  },
  {
   "cell_type": "code",
   "execution_count": 11,
   "metadata": {},
   "outputs": [
    {
     "data": {
      "image/png": "[encoded data removed]",
      "text/plain": [
       "<Figure size 432x288 with 2 Axes>"
      ]
     },
     "metadata": {
      "needs_background": "light"
     },
     "output_type": "display_data"
    },
    {
     "data": {
      "image/png": "[encoded data removed]",
      "text/plain": [
       "<Figure size 432x288 with 2 Axes>"
      ]
     },
     "metadata": {
      "needs_background": "light"
     },
     "output_type": "display_data"
    }
   ],
   "source": [
    "# 3.3\n",
    "def plot_2d_auc(_2d_auc, x_list, y_list):\n",
    "    f, ax = plt.subplots(1, 1)\n",
    "    cax = ax.matshow(_2d_auc, interpolation='nearest')\n",
    "    f.colorbar(cax)\n",
    "    ax.set_xticklabels(['']+list(x_list))\n",
    "    ax.set_yticklabels(['']+list(y_list))\n",
    "    plt.show()\n",
    "    \n",
    "K = range(1,10,1) # Or something else\n",
    "A = range(0,5,1) # Or something else\n",
    "tr_auc = np.zeros((len(K),len(A)))\n",
    "va_auc = np.zeros((len(K),len(A)))\n",
    "for i,k in enumerate(K):\n",
    "    for j,a in enumerate(A):\n",
    "        learner = ml.knn.knnClassify()\n",
    "        learner.train(XtS, Yt, K=k, alpha=a)\n",
    "        tr_auc[i][j] = learner.auc(XtS, Yt)  # train learner using k and a\n",
    "        va_auc[i][j] = learner.auc(XvS, Yv)\n",
    "        \n",
    "plot_2d_auc(tr_auc, K, A)\n",
    "plot_2d_auc(va_auc, K, A)"
   ]
  },
  {
   "cell_type": "markdown",
   "metadata": {},
   "source": [
    "I would recommand the K is and a is "
   ]
  },
  {
   "cell_type": "markdown",
   "metadata": {},
   "source": [
    "### Decision Trees (20 points)"
   ]
  },
  {
   "cell_type": "code",
   "execution_count": 12,
   "metadata": {},
   "outputs": [
    {
     "data": {
      "image/png": "[encoded data removed]",
      "text/plain": [
       "<Figure size 432x288 with 1 Axes>"
      ]
     },
     "metadata": {
      "needs_background": "light"
     },
     "output_type": "display_data"
    }
   ],
   "source": [
    "# 4.1\n",
    "depths = range(1,25,5)\n",
    "tr_auc = []\n",
    "va_auc = []\n",
    "\n",
    "for d in depths:\n",
    "    learner = ml.dtree.treeClassify(XtS, Yt, maxDepth=d)\n",
    "    tr_auc.append(learner.auc(XtS, Yt))\n",
    "    va_auc.append(learner.auc(XvS, Yv))\n",
    "\n",
    "plot(depths, tr_auc, va_auc, 'depths')"
   ]
  },
  {
   "cell_type": "code",
   "execution_count": 13,
   "metadata": {},
   "outputs": [
    {
     "data": {
      "image/png": "[encoded data removed]",
      "text/plain": [
       "<Figure size 432x288 with 1 Axes>"
      ]
     },
     "metadata": {
      "needs_background": "light"
     },
     "output_type": "display_data"
    }
   ],
   "source": [
    "# 4.2\n",
    "node_minParent_2 = []\n",
    "node_minParent_4 = []\n",
    "\n",
    "for d in depths:\n",
    "    learner = ml.dtree.treeClassify(XtS, Yt, minParent=2, maxDepth=d)\n",
    "    node_minParent_2.append(learner.sz)\n",
    "    \n",
    "    learner = ml.dtree.treeClassify(XtS, Yt, minParent=4, maxDepth=d)\n",
    "    node_minParent_4.append(learner.sz)\n",
    "\n",
    "plot(depths, node_minParent_2, node_minParent_4, 'depths')"
   ]
  },
  {
   "cell_type": "code",
   "execution_count": 14,
   "metadata": {},
   "outputs": [
    {
     "data": {
      "image/png": "[encoded data removed]",
      "text/plain": [
       "<Figure size 432x288 with 2 Axes>"
      ]
     },
     "metadata": {
      "needs_background": "light"
     },
     "output_type": "display_data"
    },
    {
     "data": {
      "image/png": "[encoded data removed]",
      "text/plain": [
       "<Figure size 432x288 with 2 Axes>"
      ]
     },
     "metadata": {
      "needs_background": "light"
     },
     "output_type": "display_data"
    }
   ],
   "source": [
    "# 4.3\n",
    "minParents = range(2,10,1)\n",
    "minLeaves = range(1,10,1)\n",
    "\n",
    "tr_auc = np.zeros((len(minParents),len(minLeaves)))\n",
    "va_auc = np.zeros((len(minParents),len(minLeaves)))\n",
    "for i,p in enumerate(minParents):\n",
    "    for j,l in enumerate(minLeaves):\n",
    "        learner = ml.dtree.treeClassify(XtS, Yt, maxDepth=5)\n",
    "        tr_auc[i][j] = learner.auc(XtS, Yt)\n",
    "        va_auc[i][j] = learner.auc(XvS, Yv)\n",
    "        \n",
    "plot_2d_auc(tr_auc, minParents, minLeaves)\n",
    "plot_2d_auc(va_auc, minParents, minLeaves)"
   ]
  },
  {
   "cell_type": "markdown",
   "metadata": {},
   "source": [
    "### Neural Networks (20 points)"
   ]
  },
  {
   "cell_type": "code",
   "execution_count": 15,
   "metadata": {
    "scrolled": false
   },
   "outputs": [
    {
     "ename": "SyntaxError",
     "evalue": "invalid syntax (<ipython-input-15-999fa55ecc37>, line 9)",
     "output_type": "error",
     "traceback": [
      "\u001b[0;36m  File \u001b[0;32m\"<ipython-input-15-999fa55ecc37>\"\u001b[0;36m, line \u001b[0;32m9\u001b[0m\n\u001b[0;31m    nn.init_weights([[XtS.shape[1], [node for x in range(1,l+1)], 2], 'random', XtS, Yt)\u001b[0m\n\u001b[0m                                                                                       ^\u001b[0m\n\u001b[0;31mSyntaxError\u001b[0m\u001b[0;31m:\u001b[0m invalid syntax\n"
     ]
    }
   ],
   "source": [
    "# 5.1\n",
    "nodes = range(1,20,3)\n",
    "layers = range(1,20,3)\n",
    "tr_auc = np.zeros((len(nodes),len(layers)))\n",
    "va_auc = np.zeros((len(nodes),len(layers)))\n",
    "for i,n in enumerate(nodes):\n",
    "    for j,l in enumerate(layers):\n",
    "        nn = ml.nnet.nnetClassify()\n",
    "        nn.init_weights([[XtS.shape[1], [node for x in range(1,l+1)], 2], 'random', XtS, Yt)\n",
    "        nn.train(XtS, Yt, stopTol=1e-8, stepsize=.25, stopIter=300)\n",
    "        tr_auc[i][j] = nn.auc(XtS, Yt)\n",
    "        va_auc[i][j] = nn.auc(XvS, Yv)\n",
    "\n",
    "plot_2d_auc(tr_auc, nodes, layers)\n",
    "plot_2d_auc(va_auc, nodes, layers)"
   ]
  },
  {
   "cell_type": "code",
   "execution_count": null,
   "metadata": {},
   "outputs": [],
   "source": [
    "# 5.2\n",
    "def sig(z): return np.atleast_2d(z)\n",
    "def dsig(z): return np.atleast_2d(1)\n",
    "\n",
    "def activation_switch(name):\n",
    "    nn = ml.nnet.nnetClassify(name)\n",
    "    nn.init_weights([XtS.shape[1],5,2], 'random', XtS, Yt) \n",
    "    if (name == 'custom'):\n",
    "        nn.setActivation(name, sig, dsig)\n",
    "    elif:\n",
    "        nn.setActivation(name)\n",
    "    nn.train(XtS, Yt, stopTol=1e-8, stepsize=.25, stopIter=300)\n",
    "    print(name + \"trian auc:\",nn.auc(XtS,Yt))\n",
    "    print(name + \"validation auc:\",nn.auc(XvS,Yv))\n",
    "\n",
    "activation_switch('custom')\n",
    "activation_switch('logistic')\n",
    "activation_switch('htangent')"
   ]
  },
  {
   "cell_type": "markdown",
   "metadata": {},
   "source": [
    "### Conclusions (5 points)"
   ]
  },
  {
   "cell_type": "code",
   "execution_count": null,
   "metadata": {},
   "outputs": [],
   "source": [
    "Xte = np.genfromtxt('data/X_test.txt', delimiter=None)\n",
    "learner = .. # train one using X,Y\n",
    "Yte = np.vstack((np.arange(Xte.shape[0]), learner.predictSoft(Xte)[:,1])).T\n",
    "np.savetxt('Y_submit.txt', Yte, '%d, %.2f', header='ID,Prob1', comments='', delimiter=',')"
   ]
  },
  {
   "cell_type": "markdown",
   "metadata": {},
   "source": [
    "### Statement of Collaboration (5 points)"
   ]
  }
 ],
 "metadata": {
  "kernelspec": {
   "display_name": "Python 3",
   "language": "python",
   "name": "python3"
  },
  "language_info": {
   "codemirror_mode": {
    "name": "ipython",
    "version": 3
   },
   "file_extension": ".py",
   "mimetype": "text/x-python",
   "name": "python",
   "nbconvert_exporter": "python",
   "pygments_lexer": "ipython3",
   "version": "3.7.0"
  }
 },
 "nbformat": 4,
 "nbformat_minor": 2
}
